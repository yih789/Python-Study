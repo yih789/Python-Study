{
 "cells": [
  {
   "cell_type": "markdown",
   "metadata": {},
   "source": [
    "## <구조> for 변수 in iterable 데이터:"
   ]
  },
  {
   "cell_type": "code",
   "execution_count": 1,
   "metadata": {},
   "outputs": [
    {
     "name": "stdout",
     "output_type": "stream",
     "text": [
      "s t a r "
     ]
    }
   ],
   "source": [
    "strings = 'star'\n",
    "\n",
    "for string in strings:\n",
    "    print(string, end=' ')"
   ]
  },
  {
   "cell_type": "markdown",
   "metadata": {},
   "source": [
    "* CODE34"
   ]
  },
  {
   "cell_type": "code",
   "execution_count": 4,
   "metadata": {},
   "outputs": [
    {
     "name": "stdout",
     "output_type": "stream",
     "text": [
      "A\n",
      "L\n",
      "I\n",
      "C\n",
      "E\n"
     ]
    }
   ],
   "source": [
    "string = 'AliCe'\n",
    "upper_string = string.upper()\n",
    "\n",
    "for upper in upper_string:\n",
    "    print(upper)"
   ]
  },
  {
   "cell_type": "markdown",
   "metadata": {},
   "source": [
    "* CODE35"
   ]
  },
  {
   "cell_type": "code",
   "execution_count": 7,
   "metadata": {},
   "outputs": [
    {
     "name": "stdout",
     "output_type": "stream",
     "text": [
      "Input String : AAADDD\n",
      "vowel count : 3\n",
      "con_count : 3\n"
     ]
    }
   ],
   "source": [
    "string = input('Input String : ')\n",
    "lower_string = string.lower()\n",
    "\n",
    "vowel_count = 0\n",
    "con_count = 0\n",
    "\n",
    "for ch in lower_string:\n",
    "    if ch in 'aeiou':\n",
    "        vowel_count+=1\n",
    "    else:\n",
    "        con_count+=1\n",
    "        \n",
    "print('vowel count :', vowel_count)\n",
    "print('con_count :', con_count)"
   ]
  },
  {
   "cell_type": "markdown",
   "metadata": {},
   "source": [
    "* CODE36"
   ]
  },
  {
   "cell_type": "code",
   "execution_count": 8,
   "metadata": {},
   "outputs": [
    {
     "name": "stdout",
     "output_type": "stream",
     "text": [
      "Input string : Nice TO MEET you.\n",
      "nICE to meet YOU.\n"
     ]
    }
   ],
   "source": [
    "string = input('Input string : ')\n",
    "new_string = ''\n",
    "\n",
    "for ch in string:\n",
    "    if ch.islower():\n",
    "        new_string += ch.upper()\n",
    "    else:\n",
    "        new_string += ch.lower()\n",
    "        \n",
    "print(new_string)"
   ]
  },
  {
   "cell_type": "code",
   "execution_count": 3,
   "metadata": {},
   "outputs": [
    {
     "name": "stdout",
     "output_type": "stream",
     "text": [
      "Enter string : AbcdefgHIJK\n",
      "aBCDEFGhijk\n"
     ]
    }
   ],
   "source": [
    "string = input(\"Enter string : \")\n",
    "new_string = string.swapcase()\n",
    "print(new_string)"
   ]
  },
  {
   "cell_type": "markdown",
   "metadata": {},
   "source": [
    "## * 리스트와 for 반복문"
   ]
  },
  {
   "cell_type": "code",
   "execution_count": 4,
   "metadata": {},
   "outputs": [
    {
     "name": "stdout",
     "output_type": "stream",
     "text": [
      "red\n",
      "green\n",
      "blue\n"
     ]
    }
   ],
   "source": [
    "for x in ['red', 'green', 'blue']:\n",
    "    print(x)"
   ]
  },
  {
   "cell_type": "markdown",
   "metadata": {},
   "source": [
    "* code 37"
   ]
  },
  {
   "cell_type": "code",
   "execution_count": 7,
   "metadata": {},
   "outputs": [
    {
     "name": "stdout",
     "output_type": "stream",
     "text": [
      "Welcome! Paul\n",
      "Welcome! David\n",
      "Welcome! Alice\n",
      "Welcome! Jenny\n"
     ]
    }
   ],
   "source": [
    "friends = ['Paul', 'David', 'Alice', 'Jenny']\n",
    "\n",
    "for friend in friends :\n",
    "    print(\"Welcome! {}\".format(friend))"
   ]
  },
  {
   "cell_type": "markdown",
   "metadata": {},
   "source": [
    "* code 38"
   ]
  },
  {
   "cell_type": "code",
   "execution_count": 8,
   "metadata": {},
   "outputs": [
    {
     "name": "stdout",
     "output_type": "stream",
     "text": [
      "Alice \n",
      "Peter Pan\n",
      "Snow White\n"
     ]
    }
   ],
   "source": [
    "books = ['Alice ', 'Peter Pan', 'snow white']\n",
    "\n",
    "for book in books :\n",
    "    print(book.title())"
   ]
  },
  {
   "cell_type": "markdown",
   "metadata": {},
   "source": [
    "* code 39"
   ]
  },
  {
   "cell_type": "code",
   "execution_count": 11,
   "metadata": {},
   "outputs": [
    {
     "name": "stdout",
     "output_type": "stream",
     "text": [
      "bookshelf\n"
     ]
    }
   ],
   "source": [
    "words = ['hello', 'computer', 'bookshelf', 'chair', 'bicycle']\n",
    "len_list = []\n",
    "\n",
    "for word in words :\n",
    "    len_list.append(len(word))\n",
    "\n",
    "max_index = len_list.index(max(len_list))\n",
    "print(words[max_index])"
   ]
  },
  {
   "cell_type": "markdown",
   "metadata": {},
   "source": [
    "* code 40"
   ]
  },
  {
   "cell_type": "code",
   "execution_count": 13,
   "metadata": {},
   "outputs": [
    {
     "name": "stdout",
     "output_type": "stream",
     "text": [
      "22\n"
     ]
    }
   ],
   "source": [
    "numbers = [4, 10, 9, -5, 5, 1, 8, 2, -2]\n",
    "sum = 0\n",
    "\n",
    "for number in numbers :\n",
    "    if number % 2 == 0 :\n",
    "        sum+=number\n",
    "        \n",
    "print(sum)"
   ]
  },
  {
   "cell_type": "markdown",
   "metadata": {},
   "source": [
    "* code 41"
   ]
  },
  {
   "cell_type": "code",
   "execution_count": 18,
   "metadata": {},
   "outputs": [
    {
     "name": "stdout",
     "output_type": "stream",
     "text": [
      "What is the capital of Korea?\n",
      "1 Busan\n",
      "2 Incheon\n",
      "3 Seoul\n",
      "4 Paris\n",
      "5 Tokyo\n",
      "6 Berlin\n",
      "정답을 입력하세요. : Paris\n",
      "땡! 오답입니다.\n"
     ]
    }
   ],
   "source": [
    "cities = ['Busan', 'Incheon', 'Seoul', 'Paris', 'Tokyo', 'Berlin']\n",
    "\n",
    "print('What is the capital of Korea?')\n",
    "for n, city in enumerate(cities) :\n",
    "    print(n+1, city)\n",
    "\n",
    "answer = input('정답을 입력하세요. : ')\n",
    "if(answer=='Seoul') :\n",
    "    print('정답입니다.!')\n",
    "else :\n",
    "    print('땡! 오답입니다.')"
   ]
  },
  {
   "cell_type": "markdown",
   "metadata": {},
   "source": [
    "## * 튜플과 for 반복문"
   ]
  },
  {
   "cell_type": "code",
   "execution_count": 19,
   "metadata": {},
   "outputs": [
    {
     "name": "stdout",
     "output_type": "stream",
     "text": [
      "100\n",
      "200\n",
      "300\n"
     ]
    }
   ],
   "source": [
    "T = (100, 200, 300)\n",
    "for x in T:\n",
    "    print(x)"
   ]
  },
  {
   "cell_type": "markdown",
   "metadata": {},
   "source": [
    "## * 집합과 for 반복문: 집합은 인덱스가 존재x  > while은 불가능하지만 for는 가능"
   ]
  },
  {
   "cell_type": "code",
   "execution_count": 20,
   "metadata": {},
   "outputs": [
    {
     "name": "stdout",
     "output_type": "stream",
     "text": [
      "baseball\n",
      "basketball\n",
      "tennis\n",
      "soccer\n"
     ]
    }
   ],
   "source": [
    "sports = {'baseball', 'soccer', 'tennis', 'basketball'}\n",
    "\n",
    "for sport in sports :\n",
    "    print(sport)"
   ]
  },
  {
   "cell_type": "markdown",
   "metadata": {},
   "source": [
    "* code 42"
   ]
  },
  {
   "cell_type": "code",
   "execution_count": 21,
   "metadata": {},
   "outputs": [
    {
     "name": "stdout",
     "output_type": "stream",
     "text": [
      "watermelon\n",
      "strawberry\n"
     ]
    }
   ],
   "source": [
    "A = {'apple', 'orange', 'strawberry', 'watermelon'}\n",
    "B = {'strawberry', 'watermelon', 'kiwi'}\n",
    "\n",
    "for a in A :\n",
    "    if(a in B) :\n",
    "        print(a)"
   ]
  },
  {
   "cell_type": "markdown",
   "metadata": {},
   "source": [
    "## * 사전과 for 반복문"
   ]
  },
  {
   "cell_type": "code",
   "execution_count": 22,
   "metadata": {},
   "outputs": [
    {
     "name": "stdout",
     "output_type": "stream",
     "text": [
      "name\n",
      "age\n",
      "phone\n"
     ]
    }
   ],
   "source": [
    "info = {'name':'Alice', 'age':20, 'phone':'010-2222-2222'}\n",
    "\n",
    "for x in info:\n",
    "    print(x) #key값만 가져온다."
   ]
  },
  {
   "cell_type": "markdown",
   "metadata": {},
   "source": [
    "## * range() 함수\n",
    "- 1개 : range(a), 0부터 a-1까지의 정수\n",
    "- 2개 : range(a, b), a부터 b-1까지의 정수\n",
    "- 3개 : range(a, b, c), a부터 b-1까지 c의 간격의 정수"
   ]
  },
  {
   "cell_type": "code",
   "execution_count": 28,
   "metadata": {},
   "outputs": [
    {
     "data": {
      "text/plain": [
       "range"
      ]
     },
     "execution_count": 28,
     "metadata": {},
     "output_type": "execute_result"
    }
   ],
   "source": [
    "type(range(5)) # range 객체 반환하므로 형변환 필요"
   ]
  },
  {
   "cell_type": "code",
   "execution_count": 32,
   "metadata": {},
   "outputs": [
    {
     "name": "stdout",
     "output_type": "stream",
     "text": [
      "[0, 1, 2, 3, 4]\n",
      "[3, 4, 5, 6]\n",
      "[1, 3, 5, 7]\n"
     ]
    }
   ],
   "source": [
    "x = list(range(5))\n",
    "y = list(range(3, 7))\n",
    "z = list(range(1, 8, 2))\n",
    "\n",
    "print(x)\n",
    "print(y)\n",
    "print(z)"
   ]
  },
  {
   "cell_type": "code",
   "execution_count": 33,
   "metadata": {},
   "outputs": [
    {
     "ename": "SyntaxError",
     "evalue": "invalid syntax (<ipython-input-33-71ac41a7d3ae>, line 1)",
     "output_type": "error",
     "traceback": [
      "\u001b[1;36m  File \u001b[1;32m\"<ipython-input-33-71ac41a7d3ae>\"\u001b[1;36m, line \u001b[1;32m1\u001b[0m\n\u001b[1;33m    range( ,10,2) # 문자열 슬라이싱과 다르게 숫자 생략이 불가능하다.\u001b[0m\n\u001b[1;37m           ^\u001b[0m\n\u001b[1;31mSyntaxError\u001b[0m\u001b[1;31m:\u001b[0m invalid syntax\n"
     ]
    }
   ],
   "source": [
    "range( ,10,2) # 문자열 슬라이싱과 다르게 숫자 생략이 불가능하다."
   ]
  },
  {
   "cell_type": "code",
   "execution_count": 34,
   "metadata": {},
   "outputs": [
    {
     "name": "stdout",
     "output_type": "stream",
     "text": [
      "0\n",
      "1\n",
      "2\n",
      "3\n",
      "4\n"
     ]
    }
   ],
   "source": [
    "for a in range(5) :\n",
    "    print(a)"
   ]
  },
  {
   "cell_type": "code",
   "execution_count": 35,
   "metadata": {},
   "outputs": [
    {
     "name": "stdout",
     "output_type": "stream",
     "text": [
      "75\n"
     ]
    }
   ],
   "source": [
    "sum = 0\n",
    "for num in range(10, 16):\n",
    "    sum += num\n",
    "\n",
    "print(sum)"
   ]
  },
  {
   "cell_type": "code",
   "execution_count": 36,
   "metadata": {},
   "outputs": [
    {
     "name": "stdout",
     "output_type": "stream",
     "text": [
      "1683\n"
     ]
    }
   ],
   "source": [
    "sum = 0\n",
    "for num in range(0, 101, 3):\n",
    "    sum += num\n",
    "    \n",
    "print(sum)"
   ]
  },
  {
   "cell_type": "markdown",
   "metadata": {},
   "source": [
    "* code 43"
   ]
  },
  {
   "cell_type": "code",
   "execution_count": 41,
   "metadata": {},
   "outputs": [
    {
     "name": "stdout",
     "output_type": "stream",
     "text": [
      "양의 정수 하나를 입력하세요. : 30\n",
      "1\n",
      "2\n",
      "3\n",
      "5\n",
      "6\n",
      "10\n",
      "15\n",
      "30\n"
     ]
    }
   ],
   "source": [
    "number = int(input(\"양의 정수 하나를 입력하세요. : \"))\n",
    "\n",
    "for i in range(1, number+1):\n",
    "    if ( (number % i) == 0 ) :\n",
    "        print(i)"
   ]
  },
  {
   "cell_type": "markdown",
   "metadata": {},
   "source": [
    "## * for 반복문 내에서 break 사용하기"
   ]
  },
  {
   "cell_type": "code",
   "execution_count": 42,
   "metadata": {},
   "outputs": [
    {
     "name": "stdout",
     "output_type": "stream",
     "text": [
      "2\n",
      "9\n",
      "-3\n",
      "8\n"
     ]
    }
   ],
   "source": [
    "for x in [2, 9, -3, 8, 0, 10, -2, 1]:\n",
    "    if x==0:\n",
    "        break\n",
    "    print(x)"
   ]
  },
  {
   "cell_type": "markdown",
   "metadata": {},
   "source": [
    "## * for 반복문 내에서 continue 사용하기"
   ]
  },
  {
   "cell_type": "code",
   "execution_count": 43,
   "metadata": {},
   "outputs": [
    {
     "name": "stdout",
     "output_type": "stream",
     "text": [
      "x : 5\n",
      "x : 7\n",
      "x : 8\n",
      "x : 1\n"
     ]
    }
   ],
   "source": [
    "for x in [5, 7, 0, 8, 0, 1]:\n",
    "    if x==0: continue\n",
    "    print('x : {}'.format(x))"
   ]
  },
  {
   "cell_type": "markdown",
   "metadata": {},
   "source": [
    "## * for 반복문에서 else 구문 사용하기"
   ]
  },
  {
   "cell_type": "code",
   "execution_count": 44,
   "metadata": {},
   "outputs": [
    {
     "name": "stdout",
     "output_type": "stream",
     "text": [
      "5\n",
      "7\n",
      "3\n",
      "8\n",
      "1\n",
      "this is else block\n"
     ]
    }
   ],
   "source": [
    "for x in [5, 7, 3, 8, 1] :\n",
    "    if x == 0 :\n",
    "        break\n",
    "    print(x)\n",
    "\n",
    "else :\n",
    "    print('this is else block')"
   ]
  },
  {
   "cell_type": "code",
   "execution_count": 46,
   "metadata": {},
   "outputs": [
    {
     "name": "stdout",
     "output_type": "stream",
     "text": [
      "5\n",
      "7\n"
     ]
    }
   ],
   "source": [
    "for x in [5, 7, 0, 8, 0, 1] :\n",
    "    if x == 0 :\n",
    "        break\n",
    "    print(x)\n",
    "else :\n",
    "    print('this is else block')\n",
    "        "
   ]
  },
  {
   "cell_type": "markdown",
   "metadata": {},
   "source": [
    "## * 중첩된 for 반복문"
   ]
  },
  {
   "cell_type": "code",
   "execution_count": 50,
   "metadata": {},
   "outputs": [
    {
     "name": "stdout",
     "output_type": "stream",
     "text": [
      "    1     2     3     4     5     6     7     8     9    10 \n",
      "    2     4     6     8    10    12    14    16    18    20 \n",
      "    3     6     9    12    15    18    21    24    27    30 \n",
      "    4     8    12    16    20    24    28    32    36    40 \n",
      "    5    10    15    20    25    30    35    40    45    50 \n",
      "    6    12    18    24    30    36    42    48    54    60 \n",
      "    7    14    21    28    35    42    49    56    63    70 \n",
      "    8    16    24    32    40    48    56    64    72    80 \n",
      "    9    18    27    36    45    54    63    72    81    90 \n",
      "   10    20    30    40    50    60    70    80    90   100 \n"
     ]
    }
   ],
   "source": [
    "for i in range(1, 11) :\n",
    "    for j in range(1, 11) :\n",
    "        print('%5d' % (i*j), end=' ')\n",
    "    print()"
   ]
  },
  {
   "cell_type": "markdown",
   "metadata": {},
   "source": [
    "* code 44"
   ]
  },
  {
   "cell_type": "code",
   "execution_count": 53,
   "metadata": {},
   "outputs": [
    {
     "name": "stdout",
     "output_type": "stream",
     "text": [
      "tomato\n",
      "strawberry\n"
     ]
    }
   ],
   "source": [
    "A = {'apple', 'orange', 'strawberry', 'watermelon', 'tomato'}\n",
    "B = {'strawberry', 'tomato', 'kiwi'}\n",
    "\n",
    "for a in A :\n",
    "    for b in B :\n",
    "        if a == b :\n",
    "            print(b)"
   ]
  },
  {
   "cell_type": "markdown",
   "metadata": {},
   "source": [
    "* code 45"
   ]
  },
  {
   "cell_type": "code",
   "execution_count": 55,
   "metadata": {},
   "outputs": [
    {
     "name": "stdout",
     "output_type": "stream",
     "text": [
      "양의 정수 하나를 입력하세요. : 10\n",
      "[1] : 1, \n",
      "[2] : 1, 2, \n",
      "[3] : 1, 3, \n",
      "[4] : 1, 2, 4, \n",
      "[5] : 1, 5, \n",
      "[6] : 1, 2, 3, 6, \n",
      "[7] : 1, 7, \n",
      "[8] : 1, 2, 4, 8, \n",
      "[9] : 1, 3, 9, \n",
      "[10] : 1, 2, 5, 10, \n"
     ]
    }
   ],
   "source": [
    "number = int(input('양의 정수 하나를 입력하세요. : '))\n",
    "\n",
    "for i in range(1, number+1):\n",
    "    print('[{}]'.format(i), end=' : ')\n",
    "    for j in range(1, i+1) :\n",
    "        if (i % j == 0) :\n",
    "            print(j, end=', ')\n",
    "    print()"
   ]
  },
  {
   "cell_type": "markdown",
   "metadata": {},
   "source": [
    "* code 46"
   ]
  },
  {
   "cell_type": "code",
   "execution_count": 58,
   "metadata": {},
   "outputs": [
    {
     "name": "stdout",
     "output_type": "stream",
     "text": [
      "heLLOAliceYMD\n"
     ]
    }
   ],
   "source": [
    "L = ['heLLO123', '010-111-1234Alice', 'Y2018M10D11']\n",
    "new_string = []\n",
    "\n",
    "for string in L :\n",
    "    for i in string :\n",
    "        if i.isalpha() :\n",
    "            new_string.append(i)\n",
    "\n",
    "new_string = \"\".join(new_string)           \n",
    "print(new_string)"
   ]
  },
  {
   "cell_type": "markdown",
   "metadata": {},
   "source": [
    "* code 47"
   ]
  },
  {
   "cell_type": "code",
   "execution_count": 59,
   "metadata": {},
   "outputs": [
    {
     "name": "stdout",
     "output_type": "stream",
     "text": [
      "heLLO\n",
      "Alice\n",
      "YMD\n"
     ]
    }
   ],
   "source": [
    "i = 0\n",
    "\n",
    "while(i<len(L)):\n",
    "    new_word = ''\n",
    "    for j in L[i] :\n",
    "        if j.isalpha() :\n",
    "            new_word += j\n",
    "    print(new_word)\n",
    "    i+=1"
   ]
  },
  {
   "cell_type": "code",
   "execution_count": 62,
   "metadata": {},
   "outputs": [
    {
     "name": "stdout",
     "output_type": "stream",
     "text": [
      "heLLO\n",
      "Alice\n",
      "YMD\n"
     ]
    }
   ],
   "source": [
    "for word in L :\n",
    "    new_word = ''\n",
    "    i = 0\n",
    "    while(i < len(word)) :\n",
    "        if word[i].isalpha() :\n",
    "            new_word += word[i]\n",
    "        i+=1\n",
    "    print(new_word)"
   ]
  },
  {
   "cell_type": "markdown",
   "metadata": {},
   "source": [
    "## * reversed() 함수에 대한 for 반복문"
   ]
  },
  {
   "cell_type": "code",
   "execution_count": 63,
   "metadata": {},
   "outputs": [
    {
     "data": {
      "text/plain": [
       "<reversed at 0x19eb001e7b8>"
      ]
     },
     "execution_count": 63,
     "metadata": {},
     "output_type": "execute_result"
    }
   ],
   "source": [
    "name = 'Alice'\n",
    "reversed(name)"
   ]
  },
  {
   "cell_type": "code",
   "execution_count": 64,
   "metadata": {},
   "outputs": [
    {
     "data": {
      "text/plain": [
       "['e', 'c', 'i', 'l', 'A']"
      ]
     },
     "execution_count": 64,
     "metadata": {},
     "output_type": "execute_result"
    }
   ],
   "source": [
    "list(reversed(name))"
   ]
  },
  {
   "cell_type": "code",
   "execution_count": 65,
   "metadata": {},
   "outputs": [
    {
     "data": {
      "text/plain": [
       "('e', 'c', 'i', 'l', 'A')"
      ]
     },
     "execution_count": 65,
     "metadata": {},
     "output_type": "execute_result"
    }
   ],
   "source": [
    "tuple(reversed(name))"
   ]
  },
  {
   "cell_type": "code",
   "execution_count": 67,
   "metadata": {},
   "outputs": [
    {
     "name": "stdout",
     "output_type": "stream",
     "text": [
      "e c i l A "
     ]
    }
   ],
   "source": [
    "for c in reversed(name) :\n",
    "    print(c, end=' ')"
   ]
  },
  {
   "cell_type": "code",
   "execution_count": 68,
   "metadata": {},
   "outputs": [],
   "source": [
    "# 리스트에 적용 가능\n",
    "score = [80, 90, 20, 11, 10]\n",
    "# 튜플에 적용 가능\n",
    "subjects = ('math', 'english', 'korean')"
   ]
  },
  {
   "cell_type": "code",
   "execution_count": 69,
   "metadata": {},
   "outputs": [
    {
     "data": {
      "text/plain": [
       "[10, 11, 20, 90, 80]"
      ]
     },
     "execution_count": 69,
     "metadata": {},
     "output_type": "execute_result"
    }
   ],
   "source": [
    "list(reversed(score))"
   ]
  },
  {
   "cell_type": "code",
   "execution_count": 70,
   "metadata": {},
   "outputs": [
    {
     "data": {
      "text/plain": [
       "['korean', 'english', 'math']"
      ]
     },
     "execution_count": 70,
     "metadata": {},
     "output_type": "execute_result"
    }
   ],
   "source": [
    "list(reversed(subjects))"
   ]
  },
  {
   "cell_type": "code",
   "execution_count": null,
   "metadata": {},
   "outputs": [],
   "source": []
  }
 ],
 "metadata": {
  "kernelspec": {
   "display_name": "Python 3",
   "language": "python",
   "name": "python3"
  },
  "language_info": {
   "codemirror_mode": {
    "name": "ipython",
    "version": 3
   },
   "file_extension": ".py",
   "mimetype": "text/x-python",
   "name": "python",
   "nbconvert_exporter": "python",
   "pygments_lexer": "ipython3",
   "version": "3.6.10"
  }
 },
 "nbformat": 4,
 "nbformat_minor": 4
}
