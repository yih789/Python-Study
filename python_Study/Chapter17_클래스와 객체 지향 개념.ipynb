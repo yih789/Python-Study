{
 "cells": [
  {
   "cell_type": "markdown",
   "metadata": {},
   "source": [
    "## * 클래스\n",
    "- 클래스의 메소드는 모두 괄호 안에 첫번째 자리에는 반드시 self를 적어야 한다."
   ]
  },
  {
   "cell_type": "markdown",
   "metadata": {},
   "source": [
    "### * 메소드만 갖는 클래스"
   ]
  },
  {
   "cell_type": "code",
   "execution_count": 11,
   "metadata": {},
   "outputs": [],
   "source": [
    "\"\"\" 강아지 객체를 표현하는 클래스입니다. \"\"\"\n",
    "class Dog:\n",
    "    \n",
    "    \"\"\" 아래처럼 docstring으로 설명을 나타내는 것은 좋은 습관이다.\"\"\"\n",
    "    \"\"\" 강아지가 꼬리 흔드는 행동을 나타내는 메소드입니다. \"\"\"\n",
    "    def wag_tail(self):\n",
    "        print('The dog is wagging its tail.')"
   ]
  },
  {
   "cell_type": "code",
   "execution_count": 7,
   "metadata": {},
   "outputs": [],
   "source": [
    "dog = Dog()"
   ]
  },
  {
   "cell_type": "code",
   "execution_count": 8,
   "metadata": {},
   "outputs": [
    {
     "name": "stdout",
     "output_type": "stream",
     "text": [
      "The dog is wagging its tail.\n"
     ]
    }
   ],
   "source": [
    "dog.wag_tail()"
   ]
  },
  {
   "cell_type": "code",
   "execution_count": 9,
   "metadata": {},
   "outputs": [],
   "source": [
    "happy = Dog()\n",
    "hope = Dog()"
   ]
  },
  {
   "cell_type": "code",
   "execution_count": 10,
   "metadata": {},
   "outputs": [
    {
     "data": {
      "text/plain": [
       "(2126897283648, 2126897283592)"
      ]
     },
     "execution_count": 10,
     "metadata": {},
     "output_type": "execute_result"
    }
   ],
   "source": [
    "id(happy), id(hope)"
   ]
  },
  {
   "cell_type": "code",
   "execution_count": 12,
   "metadata": {},
   "outputs": [],
   "source": [
    "\"\"\" 강아지 객체를 표현하는 클래스입니다. \"\"\"\n",
    "class Dog:\n",
    "    \n",
    "    \"\"\" 강아지가 꼬리 흔드는 행동을 나타내는 메소드입니다. \"\"\"\n",
    "    def wag_tail(self):\n",
    "        print('The dog is wagging its tail.')\n",
    "        \n",
    "    \"\"\" 강아지가 짖는 행동을 나타내는 메소드입니다. \"\"\"\n",
    "    def bark(self):\n",
    "        print('The dog is barking. woof~')"
   ]
  },
  {
   "cell_type": "markdown",
   "metadata": {},
   "source": [
    "## * 데이터 속성 추가하기\n",
    "- __init()__: 생성자를 의미하며 객체가 생성될 때 반드시 한 번 호출된다.\n",
    "- init도 반드시 self를 써야한다."
   ]
  },
  {
   "cell_type": "code",
   "execution_count": 14,
   "metadata": {},
   "outputs": [],
   "source": [
    "def __init__(self, name, age):\n",
    "    self.name = name # name 속성\n",
    "    self.age = age # age 속성"
   ]
  },
  {
   "cell_type": "code",
   "execution_count": 18,
   "metadata": {},
   "outputs": [],
   "source": [
    "class Dog:\n",
    "    \n",
    "    def __init__(self, name, age):\n",
    "        self.name = name\n",
    "        self.age = age\n",
    "        \n",
    "    def introduce(self):\n",
    "        print('My name is {} and {} years old.'.format(self.name, self.age))\n",
    "    \n",
    "    def wag_tail(self):\n",
    "        print('{} is wagging its tail'.format(self.name))\n",
    "        \n",
    "    def bark(self):\n",
    "        print('{} is barking. woof~'.format(self.name))\n",
    "        \n",
    "    def edit_name(self, name):\n",
    "        self.name = name"
   ]
  },
  {
   "cell_type": "code",
   "execution_count": 19,
   "metadata": {},
   "outputs": [
    {
     "name": "stdout",
     "output_type": "stream",
     "text": [
      "Happy is barking. woof~\n",
      "Hope is barking. woof~\n"
     ]
    }
   ],
   "source": [
    "Happy = Dog('Happy', 2)\n",
    "Hope = Dog('Hope', 3)\n",
    "\n",
    "Happy.bark()\n",
    "Hope.bark()"
   ]
  },
  {
   "cell_type": "code",
   "execution_count": 20,
   "metadata": {},
   "outputs": [],
   "source": [
    "Happy.edit_name('Chew')"
   ]
  },
  {
   "cell_type": "code",
   "execution_count": 22,
   "metadata": {},
   "outputs": [
    {
     "name": "stdout",
     "output_type": "stream",
     "text": [
      "Chew is barking. woof~\n"
     ]
    }
   ],
   "source": [
    "Happy.bark()"
   ]
  },
  {
   "cell_type": "markdown",
   "metadata": {},
   "source": [
    "* CODE 91"
   ]
  },
  {
   "cell_type": "code",
   "execution_count": 23,
   "metadata": {},
   "outputs": [
    {
     "name": "stdout",
     "output_type": "stream",
     "text": [
      "가장 좋은 성적의 학생 점수는 93점 입니다.\n"
     ]
    }
   ],
   "source": [
    "class Student:\n",
    "    def __init__(self, number, name, score):\n",
    "        self.number = number\n",
    "        self.name = name\n",
    "        self.score = score\n",
    "        \n",
    "    def info(self):\n",
    "        print('학번 - {}, 이름 - {}, 성적 - {}'.format(self.number, self.name, self.score))\n",
    "    \n",
    "    def getScore(self):\n",
    "        return self.score\n",
    "    \n",
    "    def getName(self):\n",
    "        return self.name\n",
    "    \n",
    "s1 = Student(20181052, '홍길동', 90)\n",
    "s2 = Student(20172531, '여혜인', 85)\n",
    "s3 = Student(20169890, '이하윤', 93)\n",
    "\n",
    "score = [s1.getScore(), s2.getScore(), s3.getScore()]\n",
    "\n",
    "\n",
    "print('가장 좋은 성적의 학생 점수는 {}점 입니다.'.format(max(score)))"
   ]
  },
  {
   "cell_type": "markdown",
   "metadata": {},
   "source": [
    "* CODE 92"
   ]
  },
  {
   "cell_type": "code",
   "execution_count": 31,
   "metadata": {},
   "outputs": [],
   "source": [
    "class Purse:\n",
    "    def __init__(self, c500, c100, c50, c10):\n",
    "        self.c500 = c500\n",
    "        self.c100 = c100\n",
    "        self.c50 = c50\n",
    "        self.c10 = c10\n",
    "        \n",
    "    def total(self):\n",
    "        return 500*self.c500 + 100*self.c100 + 50*self.c50 + 10*self.c10"
   ]
  },
  {
   "cell_type": "code",
   "execution_count": 32,
   "metadata": {},
   "outputs": [
    {
     "name": "stdout",
     "output_type": "stream",
     "text": [
      "2750\n",
      "890\n"
     ]
    }
   ],
   "source": [
    "C1 = Purse(5, 1, 2, 5)\n",
    "C2 = Purse(1, 2, 3, 4)\n",
    "\n",
    "print(C1.total())\n",
    "print(C2.total())"
   ]
  },
  {
   "cell_type": "markdown",
   "metadata": {},
   "source": [
    "## * self 변수"
   ]
  },
  {
   "cell_type": "code",
   "execution_count": 34,
   "metadata": {},
   "outputs": [],
   "source": [
    "class Dog:\n",
    "    \n",
    "    def __init__(self, name, age):\n",
    "        self.name = name\n",
    "        self.age = age\n",
    "        \n",
    "    def introduce(self):\n",
    "        print('My name is {} and {} years old.'.format(self.name, self.age))\n",
    "    \n",
    "    def wag_tail(self):\n",
    "        print('{} is wagging its tail'.format(self.name))\n",
    "        \n",
    "    def bark(self):\n",
    "        print('{} is barking. woof~'.format(self.name))\n",
    "        \n",
    "    def edit_name(self, name):\n",
    "        self.name = name"
   ]
  },
  {
   "cell_type": "code",
   "execution_count": 35,
   "metadata": {},
   "outputs": [],
   "source": [
    "d1 = Dog('happy', 2)\n",
    "d2 = Dog('cherry', 1)"
   ]
  },
  {
   "cell_type": "code",
   "execution_count": 36,
   "metadata": {},
   "outputs": [
    {
     "name": "stdout",
     "output_type": "stream",
     "text": [
      "happy is barking. woof~\n",
      "cherry is barking. woof~\n"
     ]
    }
   ],
   "source": [
    "d1.bark()\n",
    "d2.bark()"
   ]
  },
  {
   "cell_type": "code",
   "execution_count": 37,
   "metadata": {},
   "outputs": [],
   "source": [
    "### self에 인수를 넘기는 경우 ####"
   ]
  },
  {
   "cell_type": "code",
   "execution_count": 38,
   "metadata": {},
   "outputs": [
    {
     "name": "stdout",
     "output_type": "stream",
     "text": [
      "happy is barking. woof~\n",
      "cherry is barking. woof~\n"
     ]
    }
   ],
   "source": [
    "Dog.bark(d1)\n",
    "Dog.bark(d2)"
   ]
  },
  {
   "cell_type": "code",
   "execution_count": null,
   "metadata": {},
   "outputs": [],
   "source": []
  }
 ],
 "metadata": {
  "kernelspec": {
   "display_name": "Python 3",
   "language": "python",
   "name": "python3"
  },
  "language_info": {
   "codemirror_mode": {
    "name": "ipython",
    "version": 3
   },
   "file_extension": ".py",
   "mimetype": "text/x-python",
   "name": "python",
   "nbconvert_exporter": "python",
   "pygments_lexer": "ipython3",
   "version": "3.6.10"
  }
 },
 "nbformat": 4,
 "nbformat_minor": 4
}
