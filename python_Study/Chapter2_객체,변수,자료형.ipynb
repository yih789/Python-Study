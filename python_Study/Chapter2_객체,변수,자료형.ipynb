{
 "cells": [
  {
   "cell_type": "markdown",
   "metadata": {},
   "source": [
    "# 변수명 만들기\n",
    "\n",
    "1. 영문자 대소문자를 사용할 수 있고 대문자와 소문자는 다른 문자로 취급\n",
    "2. 숫자를 사용할 수 있다.\n",
    "3. 특수문자는 '_'만 가능하다.\n",
    "4. 숫자로 시작하면 안 된다.\n",
    "5. 한글로도 변수명을 만들 수 있다.\n",
    "6. 파이썬 키워드는 변수명이 될 수 없다."
   ]
  },
  {
   "cell_type": "code",
   "execution_count": 1,
   "metadata": {},
   "outputs": [
    {
     "name": "stdout",
     "output_type": "stream",
     "text": [
      "10 20 30\n"
     ]
    }
   ],
   "source": [
    "# 파이썬은 문장 끝에 ';'을 사용하지 않는다.\n",
    "# 파이썬은 변수에 자료형을 따로 정의하지 않아도 된다.\n",
    "\n",
    "a=10\n",
    "b=20\n",
    "c=30\n",
    "print(a, b, c)"
   ]
  },
  {
   "cell_type": "code",
   "execution_count": 6,
   "metadata": {},
   "outputs": [
    {
     "name": "stdout",
     "output_type": "stream",
     "text": [
      "10 20 30\n",
      "30 50\n"
     ]
    }
   ],
   "source": [
    "# 한 줄에 여러개의 문장을 ';'을 이용하여 작성 가능하다.\n",
    "\n",
    "a=10; b=20; c=30;\n",
    "d=a+b; f=b+c;\n",
    "print(a, b, c)\n",
    "print(d, f)"
   ]
  },
  {
   "cell_type": "markdown",
   "metadata": {},
   "source": [
    "## * keyword(kwlist)"
   ]
  },
  {
   "cell_type": "code",
   "execution_count": 4,
   "metadata": {},
   "outputs": [
    {
     "data": {
      "text/plain": [
       "['False',\n",
       " 'None',\n",
       " 'True',\n",
       " 'and',\n",
       " 'as',\n",
       " 'assert',\n",
       " 'break',\n",
       " 'class',\n",
       " 'continue',\n",
       " 'def',\n",
       " 'del',\n",
       " 'elif',\n",
       " 'else',\n",
       " 'except',\n",
       " 'finally',\n",
       " 'for',\n",
       " 'from',\n",
       " 'global',\n",
       " 'if',\n",
       " 'import',\n",
       " 'in',\n",
       " 'is',\n",
       " 'lambda',\n",
       " 'nonlocal',\n",
       " 'not',\n",
       " 'or',\n",
       " 'pass',\n",
       " 'raise',\n",
       " 'return',\n",
       " 'try',\n",
       " 'while',\n",
       " 'with',\n",
       " 'yield']"
      ]
     },
     "execution_count": 4,
     "metadata": {},
     "output_type": "execute_result"
    }
   ],
   "source": [
    "import keyword\n",
    "\n",
    "keyword.kwlist"
   ]
  },
  {
   "cell_type": "markdown",
   "metadata": {},
   "source": [
    "## * id() 함수"
   ]
  },
  {
   "cell_type": "code",
   "execution_count": 7,
   "metadata": {},
   "outputs": [
    {
     "data": {
      "text/plain": [
       "1659941376"
      ]
     },
     "execution_count": 7,
     "metadata": {},
     "output_type": "execute_result"
    }
   ],
   "source": [
    "# 객체를 만들면 할당되는 고유의 값\n",
    "\n",
    "a=10\n",
    "id(a)"
   ]
  },
  {
   "cell_type": "code",
   "execution_count": 8,
   "metadata": {},
   "outputs": [
    {
     "data": {
      "text/plain": [
       "1659941696"
      ]
     },
     "execution_count": 8,
     "metadata": {},
     "output_type": "execute_result"
    }
   ],
   "source": [
    "b=20\n",
    "id(b)"
   ]
  },
  {
   "cell_type": "markdown",
   "metadata": {},
   "source": [
    "## * 변수 삭제하기(del)"
   ]
  },
  {
   "cell_type": "code",
   "execution_count": 9,
   "metadata": {},
   "outputs": [
    {
     "name": "stdout",
     "output_type": "stream",
     "text": [
      "100\n"
     ]
    }
   ],
   "source": [
    "x=100\n",
    "print(x)"
   ]
  },
  {
   "cell_type": "code",
   "execution_count": 10,
   "metadata": {},
   "outputs": [],
   "source": [
    "del x"
   ]
  },
  {
   "cell_type": "code",
   "execution_count": 11,
   "metadata": {},
   "outputs": [
    {
     "ename": "NameError",
     "evalue": "name 'x' is not defined",
     "output_type": "error",
     "traceback": [
      "\u001b[1;31m---------------------------------------------------------------------------\u001b[0m",
      "\u001b[1;31mNameError\u001b[0m                                 Traceback (most recent call last)",
      "\u001b[1;32m<ipython-input-11-fc17d851ef81>\u001b[0m in \u001b[0;36m<module>\u001b[1;34m\u001b[0m\n\u001b[1;32m----> 1\u001b[1;33m \u001b[0mprint\u001b[0m\u001b[1;33m(\u001b[0m\u001b[0mx\u001b[0m\u001b[1;33m)\u001b[0m\u001b[1;33m\u001b[0m\u001b[1;33m\u001b[0m\u001b[0m\n\u001b[0m",
      "\u001b[1;31mNameError\u001b[0m: name 'x' is not defined"
     ]
    }
   ],
   "source": [
    "print(x)"
   ]
  },
  {
   "cell_type": "markdown",
   "metadata": {},
   "source": [
    "## * 파이썬의 9가지 자료형\n",
    "#### < int(정수), float(실수), complex(복소수), bool(부울), str(문자열), tuple(튜플), list(리스트), set(집합), dict(사전) >\n",
    "- 문자열, 리스트, 튜플: 순서가 중요하고 중복을 허용하는 자료형(시퀀스 자료형)\n",
    "- 집합, 사전: 순서가 상관없고 중복을 허용하지 않는 자료형\n",
    "\n",
    "#### mutable vs immutable 자료형\n",
    "- mutable: 리스트, 집합, 사전\n",
    "- immutable: 정수, 실수, 복소수, 부울, 문자열, 튜플\n",
    "\n",
    "#### * 아래 코드를 보면 변수의 값이 수정되는 것이 아니라 새로운 객체로 만들어진다."
   ]
  },
  {
   "cell_type": "code",
   "execution_count": 12,
   "metadata": {},
   "outputs": [
    {
     "data": {
      "text/plain": [
       "1659941376"
      ]
     },
     "execution_count": 12,
     "metadata": {},
     "output_type": "execute_result"
    }
   ],
   "source": [
    "a = 10\n",
    "id(a)"
   ]
  },
  {
   "cell_type": "code",
   "execution_count": 13,
   "metadata": {},
   "outputs": [
    {
     "data": {
      "text/plain": [
       "1659941696"
      ]
     },
     "execution_count": 13,
     "metadata": {},
     "output_type": "execute_result"
    }
   ],
   "source": [
    "a = 20\n",
    "id(a)"
   ]
  },
  {
   "cell_type": "markdown",
   "metadata": {},
   "source": [
    "## * 자료형 변환 함수\n",
    "#### < int(x), float(x), str(x), complex(x), bool(x), list(x), tuple(x), set(x), dict(x) >"
   ]
  },
  {
   "cell_type": "code",
   "execution_count": 17,
   "metadata": {},
   "outputs": [
    {
     "name": "stdout",
     "output_type": "stream",
     "text": [
      "3\n"
     ]
    }
   ],
   "source": [
    "x = 3.2\n",
    "y = int(x) # 변환값 반환\n",
    "print(y)"
   ]
  },
  {
   "cell_type": "markdown",
   "metadata": {},
   "source": [
    "## * 주석 처리"
   ]
  },
  {
   "cell_type": "code",
   "execution_count": 18,
   "metadata": {},
   "outputs": [
    {
     "data": {
      "text/plain": [
       "'\\n여러 줄 주석을 처리한다.\\n'"
      ]
     },
     "execution_count": 18,
     "metadata": {},
     "output_type": "execute_result"
    }
   ],
   "source": [
    "'''\n",
    "여러 줄 주석을 처리한다.\n",
    "'''\n",
    "\"\"\"\n",
    "여러 줄 주석을 처리한다.\n",
    "\"\"\"\n",
    "# 한 줄 주석을 처리한다."
   ]
  },
  {
   "cell_type": "markdown",
   "metadata": {},
   "source": [
    "## * 정리\n",
    "#### 수치 자료형 vs 컨테이너 자료형\n",
    "- 수치 자료형: int, float, complex, bool\n",
    "- 컨테이너 자료형: str, list, tuple, set, dict\n",
    "#\n",
    "#### '+' 연산자\n",
    "- 수치 자료형끼리는 섞어서 '+'할 수 있다.(더하기)\n",
    "- 시퀀스 자료형은 같은 자료형끼리만 '+'할 수 있다.(연결)\n",
    "- set, dict는 '+'할 수 없다.\n",
    "#\n",
    "#### * 연산자\n",
    "- 수치 자료형끼리는 섞어서 '*'할 수 있다.(곱하기)\n",
    "- 시퀀스 자료형은 '*'가 반복의 의미\n",
    "- set, dict는 '*'할 수 없다."
   ]
  },
  {
   "cell_type": "code",
   "execution_count": null,
   "metadata": {},
   "outputs": [],
   "source": []
  }
 ],
 "metadata": {
  "kernelspec": {
   "display_name": "Python 3",
   "language": "python",
   "name": "python3"
  },
  "language_info": {
   "codemirror_mode": {
    "name": "ipython",
    "version": 3
   },
   "file_extension": ".py",
   "mimetype": "text/x-python",
   "name": "python",
   "nbconvert_exporter": "python",
   "pygments_lexer": "ipython3",
   "version": "3.6.10"
  }
 },
 "nbformat": 4,
 "nbformat_minor": 4
}
