{
 "cells": [
  {
   "cell_type": "code",
   "execution_count": 4,
   "metadata": {},
   "outputs": [
    {
     "name": "stdout",
     "output_type": "stream",
     "text": [
      "hello\n",
      "hello\n",
      "hello\n",
      "hello\n",
      "hello\n"
     ]
    }
   ],
   "source": [
    "i = 0 # 반복변수\n",
    "while i<5: #반복조건 또는 횟수\n",
    "    print('hello')\n",
    "    i+=1 #증가 # 파이썬은 i++ 불가능"
   ]
  },
  {
   "cell_type": "markdown",
   "metadata": {},
   "source": [
    "* CODE18"
   ]
  },
  {
   "cell_type": "code",
   "execution_count": 5,
   "metadata": {},
   "outputs": [
    {
     "name": "stdout",
     "output_type": "stream",
     "text": [
      "55\n"
     ]
    }
   ],
   "source": [
    "i = 1\n",
    "sum = 0\n",
    "\n",
    "while i<=10:\n",
    "    sum += i\n",
    "    i+=1\n",
    "    \n",
    "print(sum)"
   ]
  },
  {
   "cell_type": "markdown",
   "metadata": {},
   "source": [
    "* CODE19"
   ]
  },
  {
   "cell_type": "code",
   "execution_count": 10,
   "metadata": {},
   "outputs": [
    {
     "name": "stdout",
     "output_type": "stream",
     "text": [
      "양의 정수 한 개를 입력하세요. : 100\n",
      "짝수의 합 : 2550\n"
     ]
    }
   ],
   "source": [
    "num = int(input('양의 정수 한 개를 입력하세요. : '))\n",
    "i = 2\n",
    "sum = 0\n",
    "\n",
    "while i <= num:\n",
    "    sum += i\n",
    "    i+=2\n",
    "    \n",
    "print('짝수의 합 :', sum)"
   ]
  },
  {
   "cell_type": "code",
   "execution_count": 9,
   "metadata": {},
   "outputs": [
    {
     "name": "stdout",
     "output_type": "stream",
     "text": [
      "양의 정수 한 개를 입력하세요. : 100\n",
      "짝수의 합 : 2550\n"
     ]
    }
   ],
   "source": [
    "num = int(input('양의 정수 한 개를 입력하세요. : '))\n",
    "i = 1\n",
    "sum = 0\n",
    "\n",
    "while (i+1) <= num:\n",
    "    sum += i+1\n",
    "    i+=2\n",
    "    \n",
    "print('짝수의 합 :', sum)"
   ]
  },
  {
   "cell_type": "code",
   "execution_count": 11,
   "metadata": {},
   "outputs": [
    {
     "name": "stdout",
     "output_type": "stream",
     "text": [
      "양의 정수 한 개를 입력하세요. : 100\n",
      "짝수의 합 : 2550\n"
     ]
    }
   ],
   "source": [
    "num = int(input('양의 정수 한 개를 입력하세요. : '))\n",
    "i = 1\n",
    "sum = 0\n",
    "\n",
    "while i <= num:\n",
    "    if i % 2 == 0:\n",
    "        sum += i\n",
    "    i+=1\n",
    "    \n",
    "print('짝수의 합 :', sum)"
   ]
  },
  {
   "cell_type": "markdown",
   "metadata": {},
   "source": [
    "* CODE20"
   ]
  },
  {
   "cell_type": "code",
   "execution_count": 3,
   "metadata": {},
   "outputs": [
    {
     "name": "stdout",
     "output_type": "stream",
     "text": [
      "Enter n : 5\n",
      "입력한 n횟수 만큼 정수를 입력합니다.\n",
      "Enter number : 88\n",
      "Enter number : 93\n",
      "Enter number : 95\n",
      "Enter number : 75\n",
      "Enter number : 82\n",
      "average : 86.6\n"
     ]
    }
   ],
   "source": [
    "i = 0\n",
    "sum = 0\n",
    "avg = 0\n",
    "num = int(input('Enter n : '))\n",
    "print('입력한 n횟수 만큼 정수를 입력합니다.')\n",
    "\n",
    "while i < num:\n",
    "    sum += int(input('Enter number : '))\n",
    "    i+=1\n",
    "\n",
    "avg = sum / num\n",
    "\n",
    "print('average :', avg)"
   ]
  },
  {
   "cell_type": "markdown",
   "metadata": {},
   "source": [
    "* CODE21"
   ]
  },
  {
   "cell_type": "code",
   "execution_count": 6,
   "metadata": {},
   "outputs": [
    {
     "name": "stdout",
     "output_type": "stream",
     "text": [
      "Enter number : 1\n",
      "Enter number : 2\n",
      "Enter number : 3\n",
      "Enter number : 4\n",
      "Enter number : 5\n",
      "Enter number : 6\n",
      "Enter number : 7\n",
      "Enter number : 8\n",
      "Enter number : 8\n",
      "Enter number : 9\n"
     ]
    },
    {
     "data": {
      "text/plain": [
       "9"
      ]
     },
     "execution_count": 6,
     "metadata": {},
     "output_type": "execute_result"
    }
   ],
   "source": [
    "i = 0\n",
    "num = []\n",
    "\n",
    "while i < 10:\n",
    "    num.append(int(input('Enter number : ')))\n",
    "    i+=1\n",
    "    \n",
    "max(num)"
   ]
  },
  {
   "cell_type": "code",
   "execution_count": 8,
   "metadata": {},
   "outputs": [
    {
     "name": "stdout",
     "output_type": "stream",
     "text": [
      "Enter number : 15\n",
      "Enter number : 22\n",
      "Enter number : 25\n",
      "Enter number : 30\n",
      "Enter number : 100\n",
      "Enter number : 1\n",
      "Enter number : 2\n",
      "Enter number : 3\n",
      "Enter number : 4\n",
      "Enter number : 5\n",
      "100\n"
     ]
    }
   ],
   "source": [
    "i = 0\n",
    "num = []\n",
    "m = int(input('Enter number : '))\n",
    "\n",
    "while i < 9:\n",
    "    temp = int(input('Enter number : '))\n",
    "    if m < temp: m = temp\n",
    "    i+=1\n",
    "    \n",
    "print(m)"
   ]
  },
  {
   "cell_type": "markdown",
   "metadata": {},
   "source": [
    "* CODE22 : 소수 구하기(1과 자기 자신만을 약수로 갖는 수)"
   ]
  },
  {
   "cell_type": "code",
   "execution_count": 10,
   "metadata": {},
   "outputs": [
    {
     "name": "stdout",
     "output_type": "stream",
     "text": [
      "Enter n : 80\n",
      "80 is not prime\n"
     ]
    }
   ],
   "source": [
    "i = 2\n",
    "count = 0\n",
    "\n",
    "n = int(input('Enter n : '))\n",
    "\n",
    "while i < n:\n",
    "    if n % i == 0:\n",
    "        count += 1\n",
    "        print(n, 'is not prime')\n",
    "        break\n",
    "    i+=1\n",
    "    \n",
    "if count == 0:\n",
    "    print(n, 'is prime')"
   ]
  },
  {
   "cell_type": "markdown",
   "metadata": {},
   "source": [
    "* CODE23"
   ]
  },
  {
   "cell_type": "code",
   "execution_count": 12,
   "metadata": {},
   "outputs": [
    {
     "name": "stdout",
     "output_type": "stream",
     "text": [
      "Enter string : MY NAME IS YEOHYEIN HI\n",
      "문자열 내의 모음의 갯수는 8 개 입니다.\n"
     ]
    }
   ],
   "source": [
    "i = 0\n",
    "count = 0\n",
    "vowels = 'aeiouAEIOU'\n",
    "\n",
    "string = input('Enter string : ')\n",
    "\n",
    "while i < len(string):\n",
    "    if string[i] in vowels:\n",
    "        count += 1\n",
    "    i+=1\n",
    "    \n",
    "print('문자열 내의 모음의 갯수는', count, '개 입니다.')"
   ]
  },
  {
   "cell_type": "markdown",
   "metadata": {},
   "source": [
    "* CODE24"
   ]
  },
  {
   "cell_type": "code",
   "execution_count": 13,
   "metadata": {},
   "outputs": [
    {
     "name": "stdout",
     "output_type": "stream",
     "text": [
      "Enter string : kdflswjDLKFJWOVD    dkfd 235235\n"
     ]
    },
    {
     "data": {
      "text/plain": [
       "(9, 11, 5, 6)"
      ]
     },
     "execution_count": 13,
     "metadata": {},
     "output_type": "execute_result"
    }
   ],
   "source": [
    "i = 0\n",
    "count_upper = 0\n",
    "count_lower = 0\n",
    "count_space = 0\n",
    "count_number = 0\n",
    "\n",
    "string = input('Enter string : ')\n",
    "\n",
    "while i < len(string):\n",
    "    if string[i].isupper():\n",
    "        count_upper += 1\n",
    "    if string[i].islower():\n",
    "        count_lower += 1\n",
    "    if string[i].isspace():\n",
    "        count_space += 1\n",
    "    if string[i].isdigit():\n",
    "        count_number += 1\n",
    "    i+=1\n",
    "    \n",
    "count_upper, count_lower, count_space, count_number"
   ]
  },
  {
   "cell_type": "markdown",
   "metadata": {},
   "source": [
    "* CODE25"
   ]
  },
  {
   "cell_type": "code",
   "execution_count": 16,
   "metadata": {},
   "outputs": [
    {
     "name": "stdout",
     "output_type": "stream",
     "text": [
      "Enter string : strawberry\n",
      "y r r e b w a r t s "
     ]
    }
   ],
   "source": [
    "string = input('Enter string : ')\n",
    "\n",
    "i = len(string) - 1\n",
    "\n",
    "while i >= 0:\n",
    "    print(string[i], end=' ')\n",
    "    i -= 1"
   ]
  },
  {
   "cell_type": "markdown",
   "metadata": {},
   "source": [
    "* CODE26"
   ]
  },
  {
   "cell_type": "code",
   "execution_count": 19,
   "metadata": {},
   "outputs": [
    {
     "name": "stdout",
     "output_type": "stream",
     "text": [
      "Input your name : hyein\n"
     ]
    },
    {
     "data": {
      "text/plain": [
       "0"
      ]
     },
     "execution_count": 19,
     "metadata": {},
     "output_type": "execute_result"
    }
   ],
   "source": [
    "friends = ['Paul', 'Bob', 'Alice', 'Bob', 'David', 'Cindy', 'Alice', 'Bob']\n",
    "i = 0\n",
    "count = 0\n",
    "\n",
    "name = input('Input your name : ')\n",
    "\n",
    "while i < len(friends):\n",
    "    if name == friends[i]:\n",
    "        count += 1\n",
    "    i += 1    \n",
    "count"
   ]
  },
  {
   "cell_type": "markdown",
   "metadata": {},
   "source": [
    "## * 무한 루프와 break"
   ]
  },
  {
   "cell_type": "code",
   "execution_count": 22,
   "metadata": {},
   "outputs": [
    {
     "name": "stdout",
     "output_type": "stream",
     "text": [
      "1\n",
      "2\n",
      "3\n",
      "4\n",
      "5\n"
     ]
    }
   ],
   "source": [
    "i = 1\n",
    "while True:\n",
    "    print(i)\n",
    "    if i == 5: break\n",
    "    i += 1"
   ]
  },
  {
   "cell_type": "markdown",
   "metadata": {},
   "source": [
    "* CODE30"
   ]
  },
  {
   "cell_type": "code",
   "execution_count": 24,
   "metadata": {},
   "outputs": [
    {
     "name": "stdout",
     "output_type": "stream",
     "text": [
      "Enter n : 17\n",
      "17 is prime\n"
     ]
    }
   ],
   "source": [
    "import sys\n",
    "\n",
    "count = 0\n",
    "i = 1\n",
    "\n",
    "n = int(input('Enter n : '))\n",
    "\n",
    "if n == 1:\n",
    "    print('1 is not prime')\n",
    "    sys.exit(0)\n",
    "    \n",
    "while True:\n",
    "    if n % i == 0: count += 1\n",
    "    if count == 2: break\n",
    "    i += 1\n",
    "\n",
    "if i < n: print(n, 'is not prime')\n",
    "else: print(n, 'is prime')"
   ]
  },
  {
   "cell_type": "markdown",
   "metadata": {},
   "source": [
    "## * 플래그를 이용한 루프 제어"
   ]
  },
  {
   "cell_type": "code",
   "execution_count": 27,
   "metadata": {},
   "outputs": [
    {
     "name": "stdout",
     "output_type": "stream",
     "text": [
      "Who is your friend? a\n",
      "a is your friends.\n",
      "Who is your friend? b\n",
      "b is your friends.\n",
      "Who is your friend? c\n",
      "c is your friends.\n",
      "Who is your friend? none\n",
      "stop\n"
     ]
    }
   ],
   "source": [
    "flag = True\n",
    "while flag:\n",
    "    friend = input('Who is your friend? ')\n",
    "    if friend == 'none':\n",
    "        print('stop')\n",
    "        flag = False\n",
    "    else:\n",
    "        print(friend, 'is your friends.')"
   ]
  },
  {
   "cell_type": "markdown",
   "metadata": {},
   "source": [
    "## * while에 else 구문"
   ]
  },
  {
   "cell_type": "code",
   "execution_count": 29,
   "metadata": {},
   "outputs": [
    {
     "name": "stdout",
     "output_type": "stream",
     "text": [
      "1\n",
      "2\n",
      "3\n",
      "4\n",
      "5\n",
      "else block\n",
      "outside while\n"
     ]
    }
   ],
   "source": [
    "i = 1\n",
    "while i <= 5: # 루프가 여기서 끝난다.\n",
    "    print(i)\n",
    "    if i == 10:\n",
    "        break\n",
    "    i+=1\n",
    "else: # 루프가 범위를 모두 동작하고 끝나면 else문 실행\n",
    "    print('else block')\n",
    "print('outside while')"
   ]
  },
  {
   "cell_type": "code",
   "execution_count": 30,
   "metadata": {},
   "outputs": [
    {
     "name": "stdout",
     "output_type": "stream",
     "text": [
      "1\n",
      "2\n",
      "3\n",
      "outside while\n"
     ]
    }
   ],
   "source": [
    "i = 1\n",
    "while i <= 5:\n",
    "    print(i)\n",
    "    if i == 3: # 루프가 여기서 끝난다.\n",
    "        break\n",
    "    i+=1\n",
    "else: # 루프 중간에 끝나면 else문 실행되지 않는다.\n",
    "    print('else block')\n",
    "print('outside while')"
   ]
  },
  {
   "cell_type": "markdown",
   "metadata": {},
   "source": [
    "* CODE31"
   ]
  },
  {
   "cell_type": "code",
   "execution_count": 1,
   "metadata": {},
   "outputs": [
    {
     "name": "stdout",
     "output_type": "stream",
     "text": [
      "Enter word : hello\n",
      "hello\n",
      "Enter word : love\n",
      "love\n",
      "Enter word : %%\n",
      "Enter word : 12345\n",
      "12345\n"
     ]
    }
   ],
   "source": [
    "i = 0\n",
    "while i < 3:\n",
    "    word = input('Enter word : ')\n",
    "    if not word.isalnum():\n",
    "        continue\n",
    "    print(word)\n",
    "    i+=1"
   ]
  },
  {
   "cell_type": "markdown",
   "metadata": {},
   "source": [
    "## * 중첩된 반복문"
   ]
  },
  {
   "cell_type": "code",
   "execution_count": 6,
   "metadata": {},
   "outputs": [
    {
     "name": "stdout",
     "output_type": "stream",
     "text": [
      " 2  4  6  8 10 12 14 16 18 20 \n",
      " 3  6  9 12 15 18 21 24 27 30 \n",
      " 4  8 12 16 20 24 28 32 36 40 \n",
      " 5 10 15 20 25 30 35 40 45 50 \n",
      " 6 12 18 24 30 36 42 48 54 60 \n",
      " 7 14 21 28 35 42 49 56 63 70 \n",
      " 8 16 24 32 40 48 56 64 72 80 \n",
      " 9 18 27 36 45 54 63 72 81 90 \n"
     ]
    }
   ],
   "source": [
    "i = 2\n",
    "j = 1\n",
    "while i <= 9:\n",
    "    while j <= 10:\n",
    "        print('%2d' % (i*j), end=' ')\n",
    "        j+=1\n",
    "    i+=1\n",
    "    j=1\n",
    "    print()"
   ]
  },
  {
   "cell_type": "markdown",
   "metadata": {},
   "source": [
    "* CODE33"
   ]
  },
  {
   "cell_type": "code",
   "execution_count": 11,
   "metadata": {},
   "outputs": [
    {
     "name": "stdout",
     "output_type": "stream",
     "text": [
      "Enter row : 3\n",
      "Enter column: 6\n",
      "******\n",
      "******\n",
      "******\n"
     ]
    }
   ],
   "source": [
    "a = int(input('Enter row : '))\n",
    "b = int(input('Enter column: '))\n",
    "i = 0; j = 0;\n",
    "\n",
    "while i < a:\n",
    "    j=0\n",
    "    while j < b:\n",
    "        print('*', end='')\n",
    "        j+=1\n",
    "    print()\n",
    "    i+=1"
   ]
  },
  {
   "cell_type": "markdown",
   "metadata": {},
   "source": []
  }
 ],
 "metadata": {
  "kernelspec": {
   "display_name": "Python 3",
   "language": "python",
   "name": "python3"
  },
  "language_info": {
   "codemirror_mode": {
    "name": "ipython",
    "version": 3
   },
   "file_extension": ".py",
   "mimetype": "text/x-python",
   "name": "python",
   "nbconvert_exporter": "python",
   "pygments_lexer": "ipython3",
   "version": "3.6.10"
  }
 },
 "nbformat": 4,
 "nbformat_minor": 4
}
