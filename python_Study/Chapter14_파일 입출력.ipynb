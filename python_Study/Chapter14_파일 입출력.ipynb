{
 "cells": [
  {
   "cell_type": "markdown",
   "metadata": {},
   "source": [
    "## *  파일 열기"
   ]
  },
  {
   "cell_type": "markdown",
   "metadata": {},
   "source": [
    "### open() 함수\n",
    "- 파일 객체 = open(파일명, 모드)\n",
    "- 읽기(r): 파일에서 데이터를 읽어오기만 한다.\n",
    "- 쓰기(w): 첫 번째 인수에 없는 파일명을 넣으면 새로 파일을 만들고, 이미 존재하는 파일명을 넣으면 기존의 파일 내용을 모두 지우고 새로운 데이터 저장\n",
    "- 추가(a): 첫 번재 인수에 없는 파일명을 넣으면 새로 파일을 만들고, 이미 존재하는 파일명을 넣으면 기존 내용의 맨 뒤에 새로운 내용 추가."
   ]
  },
  {
   "cell_type": "code",
   "execution_count": 2,
   "metadata": {},
   "outputs": [
    {
     "name": "stdout",
     "output_type": "stream",
     "text": [
      "Alice in Wonderland is a fantasy adventure film.\n",
      "It is diected by Tim Burton.\n",
      "The film was produced by Walt Disney Pictures.\n",
      "It was shot in the United Kingdom and the USA.\n"
     ]
    }
   ],
   "source": [
    "f = open('movie.txt', 'r')\n",
    "contents = f.read()\n",
    "print(contents)\n",
    "f.close()"
   ]
  },
  {
   "cell_type": "code",
   "execution_count": 4,
   "metadata": {},
   "outputs": [
    {
     "data": {
      "text/plain": [
       "['_CHUNK_SIZE',\n",
       " '__class__',\n",
       " '__del__',\n",
       " '__delattr__',\n",
       " '__dict__',\n",
       " '__dir__',\n",
       " '__doc__',\n",
       " '__enter__',\n",
       " '__eq__',\n",
       " '__exit__',\n",
       " '__format__',\n",
       " '__ge__',\n",
       " '__getattribute__',\n",
       " '__getstate__',\n",
       " '__gt__',\n",
       " '__hash__',\n",
       " '__init__',\n",
       " '__init_subclass__',\n",
       " '__iter__',\n",
       " '__le__',\n",
       " '__lt__',\n",
       " '__ne__',\n",
       " '__new__',\n",
       " '__next__',\n",
       " '__reduce__',\n",
       " '__reduce_ex__',\n",
       " '__repr__',\n",
       " '__setattr__',\n",
       " '__sizeof__',\n",
       " '__str__',\n",
       " '__subclasshook__',\n",
       " '_checkClosed',\n",
       " '_checkReadable',\n",
       " '_checkSeekable',\n",
       " '_checkWritable',\n",
       " '_finalizing',\n",
       " 'buffer',\n",
       " 'close',\n",
       " 'closed',\n",
       " 'detach',\n",
       " 'encoding',\n",
       " 'errors',\n",
       " 'fileno',\n",
       " 'flush',\n",
       " 'isatty',\n",
       " 'line_buffering',\n",
       " 'mode',\n",
       " 'name',\n",
       " 'newlines',\n",
       " 'read',\n",
       " 'readable',\n",
       " 'readline',\n",
       " 'readlines',\n",
       " 'seek',\n",
       " 'seekable',\n",
       " 'tell',\n",
       " 'truncate',\n",
       " 'writable',\n",
       " 'write',\n",
       " 'writelines']"
      ]
     },
     "execution_count": 4,
     "metadata": {},
     "output_type": "execute_result"
    }
   ],
   "source": [
    "dir(f)"
   ]
  },
  {
   "cell_type": "markdown",
   "metadata": {},
   "source": [
    "### * 파일로부터 데이터를 읽는 함수 - read(), readline(), readlines()\n",
    "### * 파일에 데이터를 저장하는 함수 - write(), writelines() / writeline()은  존재하지 않는다."
   ]
  },
  {
   "cell_type": "markdown",
   "metadata": {},
   "source": [
    "### open()과 with~as"
   ]
  },
  {
   "cell_type": "code",
   "execution_count": 7,
   "metadata": {},
   "outputs": [
    {
     "name": "stdout",
     "output_type": "stream",
     "text": [
      "Alice in Wonderland is a fantasy adventure film.\n",
      "It is diected by Tim Burton.\n",
      "The film was produced by Walt Disney Pictures.\n",
      "It was shot in the United Kingdom and the USA.\n"
     ]
    }
   ],
   "source": [
    "with open('movie.txt', 'r') as f:\n",
    "    s = f.read()\n",
    "    print(s)\n",
    "f.close()"
   ]
  },
  {
   "cell_type": "code",
   "execution_count": 11,
   "metadata": {},
   "outputs": [
    {
     "data": {
      "text/plain": [
       "<_io.TextIOWrapper name='movie.txt' mode='r' encoding='cp949'>"
      ]
     },
     "execution_count": 11,
     "metadata": {},
     "output_type": "execute_result"
    }
   ],
   "source": [
    "f = open('movie.txt', 'r')\n",
    "iter(f)"
   ]
  },
  {
   "cell_type": "code",
   "execution_count": 13,
   "metadata": {},
   "outputs": [
    {
     "name": "stdout",
     "output_type": "stream",
     "text": [
      "Alice in Wonderland is a fantasy adventure film.\n",
      "\n",
      "It is diected by Tim Burton.\n",
      "\n",
      "The film was produced by Walt Disney Pictures.\n",
      "\n",
      "It was shot in the United Kingdom and the USA.\n"
     ]
    }
   ],
   "source": [
    "# 파일 객체는 라인별로 iterable 객체이다.\n",
    "f = open('movie.txt', 'r')\n",
    "for line in f:\n",
    "    print(line)"
   ]
  },
  {
   "cell_type": "markdown",
   "metadata": {},
   "source": [
    "### * 한글 파일을 읽기 위한 인코딩"
   ]
  },
  {
   "cell_type": "code",
   "execution_count": 15,
   "metadata": {},
   "outputs": [
    {
     "name": "stdout",
     "output_type": "stream",
     "text": [
      "안녕하세요 여혜인입니다.\n"
     ]
    }
   ],
   "source": [
    "f = open('greet.txt', encoding='UTF-8')\n",
    "print(f.read())"
   ]
  },
  {
   "cell_type": "markdown",
   "metadata": {},
   "source": [
    "## * 파일 입력 - 파일로부터 데이터 읽어 오기"
   ]
  },
  {
   "cell_type": "markdown",
   "metadata": {},
   "source": [
    "### - read()"
   ]
  },
  {
   "cell_type": "code",
   "execution_count": 17,
   "metadata": {},
   "outputs": [],
   "source": [
    "# read(): 전체 데이터를 문자열로 읽어 온다.\n",
    "# read(정수): 읽어 오려는 문자의 개수를 넣어준다."
   ]
  },
  {
   "cell_type": "code",
   "execution_count": 29,
   "metadata": {},
   "outputs": [
    {
     "name": "stdout",
     "output_type": "stream",
     "text": [
      "안녕하세요\n"
     ]
    }
   ],
   "source": [
    "f = open('greet.txt', encoding='UTF-8')\n",
    "print(f.read(5))"
   ]
  },
  {
   "cell_type": "markdown",
   "metadata": {},
   "source": [
    "* CODE 78"
   ]
  },
  {
   "cell_type": "code",
   "execution_count": 28,
   "metadata": {},
   "outputs": [
    {
     "name": "stdout",
     "output_type": "stream",
     "text": [
      "읽은 데이터에 저장된 단어의 개수는 20개 입니다.\n"
     ]
    }
   ],
   "source": [
    "cnt = 0\n",
    "\n",
    "with open('python.txt', 'r') as f:\n",
    "    word = f.read().split()\n",
    "    print('읽은 데이터에 저장된 단어의 개수는 {}개 입니다.'.format(len(word)))\n",
    "    f.close() "
   ]
  },
  {
   "cell_type": "markdown",
   "metadata": {},
   "source": [
    "* CODE 79"
   ]
  },
  {
   "cell_type": "code",
   "execution_count": 41,
   "metadata": {},
   "outputs": [
    {
     "name": "stdout",
     "output_type": "stream",
     "text": [
      "Enter File Name : how_are_you.txt\n",
      "Enter word : jake\n",
      "jake is not in how_are_you.txt\n"
     ]
    }
   ],
   "source": [
    "file_name = input('Enter File Name : ')\n",
    "word = input('Enter word : ')\n",
    "with open(file_name, 'r') as f:\n",
    "    content = f.read()\n",
    "    if word in content:\n",
    "        print('{} is in {}'.format(word, file_name))\n",
    "    else:\n",
    "        print('{} is not in {}'.format(word, file_name))\n",
    "    f.close()"
   ]
  },
  {
   "cell_type": "markdown",
   "metadata": {},
   "source": [
    "## * 파일 커서 처음으로 이동시키기"
   ]
  },
  {
   "cell_type": "code",
   "execution_count": 43,
   "metadata": {},
   "outputs": [
    {
     "name": "stdout",
     "output_type": "stream",
     "text": [
      "Python is a widely used high-level programming language.\n",
      "It is created by Guido van Rossum.\n",
      "It is released in 1991.\n",
      "--------------------\n",
      "Python is a widely used high-level programming language.\n",
      "It is created by Guido van Rossum.\n",
      "It is released in 1991.\n"
     ]
    }
   ],
   "source": [
    "# 가장 간단한 방법은 파일을 닫았다가 다시 열기\n",
    "f = open('python.txt')\n",
    "contents = f.read()\n",
    "print(contents)\n",
    "f.close()\n",
    "\n",
    "print('-'*20)\n",
    "\n",
    "f = open('python.txt')\n",
    "contents = f.read()\n",
    "print(contents)\n",
    "f.close()"
   ]
  },
  {
   "cell_type": "markdown",
   "metadata": {},
   "source": [
    "### * seek() 메소드 사용"
   ]
  },
  {
   "cell_type": "code",
   "execution_count": 44,
   "metadata": {},
   "outputs": [
    {
     "name": "stdout",
     "output_type": "stream",
     "text": [
      "Python is a widely used high-level programming language.\n",
      "It is created by Guido van Rossum.\n",
      "It is released in 1991.\n",
      "Python is a widely used high-level programming language.\n",
      "It is created by Guido van Rossum.\n",
      "It is released in 1991.\n"
     ]
    }
   ],
   "source": [
    "f = open('python.txt', 'r')\n",
    "contents = f.read()\n",
    "print(contents)\n",
    "\n",
    "f.seek(0, 0)\n",
    "contents = f.read()\n",
    "print(contents)\n",
    "\n",
    "f.close()"
   ]
  },
  {
   "cell_type": "markdown",
   "metadata": {},
   "source": [
    "### * readline() 메소드\n",
    "- 한 줄씩(\\n)포함 읽어 문자열로 반환\n",
    "- 인수가 없는 경우에는 한 줄씩 읽고\n",
    "- 인수가 하나(정수) 있는 경우에는 정수만큼 읽어오며, 정수가 한 줄의 데이터 개수보다 많은면 그냥 한 줄만 가져온다."
   ]
  },
  {
   "cell_type": "code",
   "execution_count": 49,
   "metadata": {},
   "outputs": [
    {
     "name": "stdout",
     "output_type": "stream",
     "text": [
      "Python is a widely used high-level programming language.\n",
      "\n",
      "It is created by Guido van Rossum.\n",
      "\n",
      "It is released in 1991.\n"
     ]
    },
    {
     "data": {
      "text/plain": [
       "0"
      ]
     },
     "execution_count": 49,
     "metadata": {},
     "output_type": "execute_result"
    }
   ],
   "source": [
    "f = open('python.txt', 'r')\n",
    "c = f.readline() # 문장의 끝에 개행문자도 함께 오기 때문에 두줄 띄어쓰기\n",
    "print(c)\n",
    "c = f.readline()\n",
    "print(c)\n",
    "c = f.readline()\n",
    "print(c)\n",
    "\n",
    "f.seek(0,0)"
   ]
  },
  {
   "cell_type": "code",
   "execution_count": 50,
   "metadata": {},
   "outputs": [
    {
     "name": "stdout",
     "output_type": "stream",
     "text": [
      "Pyt\n"
     ]
    }
   ],
   "source": [
    "c = f.readline(3)\n",
    "print(c)"
   ]
  },
  {
   "cell_type": "code",
   "execution_count": 51,
   "metadata": {},
   "outputs": [
    {
     "name": "stdout",
     "output_type": "stream",
     "text": [
      "hon is a widely used high-level programming language.\n",
      "\n"
     ]
    }
   ],
   "source": [
    "c = f.readline(100)\n",
    "print(c)"
   ]
  },
  {
   "cell_type": "code",
   "execution_count": 53,
   "metadata": {},
   "outputs": [
    {
     "name": "stdout",
     "output_type": "stream",
     "text": [
      "Python is a widely used high-level programming language.\n"
     ]
    }
   ],
   "source": [
    "########## 개행문자를 제거하기 위한 코드 #############\n",
    "f.seek(0, 0)\n",
    "\n",
    "c = f.readline().strip()\n",
    "print(c)\n",
    "f.close()"
   ]
  },
  {
   "cell_type": "markdown",
   "metadata": {},
   "source": [
    "* CODE80"
   ]
  },
  {
   "cell_type": "code",
   "execution_count": 56,
   "metadata": {},
   "outputs": [
    {
     "name": "stdout",
     "output_type": "stream",
     "text": [
      "Enter file name : wash_face.txt\n",
      "Enter word : wash\n",
      "wash는 1번째 줄에 1개 있습니다.\n",
      "wash는 2번째 줄에 2개 있습니다.\n",
      "wash는 3번째 줄에 1개 있습니다.\n"
     ]
    }
   ],
   "source": [
    "file_name = input('Enter file name : ')\n",
    "word = input('Enter word : ')\n",
    "line_num = 0\n",
    "cnt = 0\n",
    "\n",
    "with open(file_name, 'r') as f:\n",
    "    for i, line in enumerate(f.readlines(), 1):\n",
    "        if word in line :\n",
    "            print('{}는 {}번째 줄에 {}개 있습니다.'.format(word, i, line.count(word)))\n",
    "    f.close()"
   ]
  },
  {
   "cell_type": "markdown",
   "metadata": {},
   "source": [
    "* CODE81"
   ]
  },
  {
   "cell_type": "code",
   "execution_count": 57,
   "metadata": {},
   "outputs": [
    {
     "name": "stdout",
     "output_type": "stream",
     "text": [
      "1. This is the way we wash our face,\n",
      "2. wash our face, wash our face,\n",
      "3. This is the way we wash our face,\n",
      "4. so early in the morning.\n"
     ]
    }
   ],
   "source": [
    "with open('wash_face.txt','r') as f:\n",
    "    c = f.read()\n",
    "    L = c.split('\\n')\n",
    "    for i, line in enumerate(L, 1):\n",
    "        print('{}. {}'.format(i, line))\n",
    "    f.close()"
   ]
  },
  {
   "cell_type": "markdown",
   "metadata": {},
   "source": [
    "* CODE 82"
   ]
  },
  {
   "cell_type": "code",
   "execution_count": 63,
   "metadata": {},
   "outputs": [
    {
     "name": "stdout",
     "output_type": "stream",
     "text": [
      "[90, 88, 79, 95, 78, 92]\n",
      "평균 성적은 87.00점 입니다.\n"
     ]
    }
   ],
   "source": [
    "with open('score.txt', 'r') as f:\n",
    "    score = list(map(int,f.read().split('\\n')))\n",
    "    print(score)\n",
    "    print('평균 성적은 %.2f점 입니다.' % (sum(score)/len(score)))\n",
    "    f.close()"
   ]
  },
  {
   "cell_type": "markdown",
   "metadata": {},
   "source": [
    "* CODE 83"
   ]
  },
  {
   "cell_type": "code",
   "execution_count": 71,
   "metadata": {},
   "outputs": [
    {
     "name": "stdout",
     "output_type": "stream",
     "text": [
      "{201812345: 90, 201712345: 88, 201800001: 95, 201800100: 77, 201710010: 85}\n",
      "평균 성적은 87.00점 입니다.\n"
     ]
    }
   ],
   "source": [
    "score = {}\n",
    "\n",
    "with open('score.txt', 'r') as f:\n",
    "    for line in f.readlines():\n",
    "        key, value = map(int,line.split())\n",
    "        score[key] = value\n",
    "    f.close()\n",
    "print(score)\n",
    "print('평균 성적은 %.2f점 입니다.' % (sum(score.values())/len(score)))"
   ]
  },
  {
   "cell_type": "markdown",
   "metadata": {},
   "source": [
    "* CODE 84"
   ]
  },
  {
   "cell_type": "code",
   "execution_count": 73,
   "metadata": {},
   "outputs": [
    {
     "name": "stdout",
     "output_type": "stream",
     "text": [
      "{'GMAT': ['John', 'Joe', 'Tome'],\n",
      " 'GRE': ['Henry', 'Jenny', 'Jessica', 'Erin', 'Time'],\n",
      " 'TOEFL': ['Alice', 'Paul', 'David', 'Bob'],\n",
      " 'TOEIC': ['Cindy', 'Stella', 'Bill']}\n"
     ]
    }
   ],
   "source": [
    "import pprint\n",
    "subject = {}\n",
    "\n",
    "\n",
    "with open('exam.txt', 'r') as f:\n",
    "    for line in f.readlines():\n",
    "        c = line.split()\n",
    "        subject[c[0]]=c[1:]\n",
    "    f.close()\n",
    "pprint.pprint(subject)"
   ]
  },
  {
   "cell_type": "markdown",
   "metadata": {},
   "source": [
    "## * 파일 출력 - 파일에 데이터 저장하기"
   ]
  },
  {
   "cell_type": "markdown",
   "metadata": {},
   "source": [
    "### - write()"
   ]
  },
  {
   "cell_type": "code",
   "execution_count": 74,
   "metadata": {},
   "outputs": [],
   "source": [
    "f = open('greeting.txt', 'w')\n",
    "f.write('Nice to meet you!')\n",
    "f.close()"
   ]
  },
  {
   "cell_type": "code",
   "execution_count": 75,
   "metadata": {},
   "outputs": [],
   "source": [
    "f = open('greeting.txt', 'w')\n",
    "f.write('How are you?')\n",
    "f.close()"
   ]
  },
  {
   "cell_type": "code",
   "execution_count": 76,
   "metadata": {},
   "outputs": [],
   "source": [
    "f = open('greeting.txt', 'a')\n",
    "f.write('Good morning!')\n",
    "f.close()"
   ]
  },
  {
   "cell_type": "markdown",
   "metadata": {},
   "source": [
    "* CODE 85"
   ]
  },
  {
   "cell_type": "code",
   "execution_count": 77,
   "metadata": {},
   "outputs": [
    {
     "name": "stdout",
     "output_type": "stream",
     "text": [
      "Enter file name : math.txt\n",
      "Enter score : 90\n",
      "Enter score : 88\n",
      "Enter score : 100\n",
      "Enter score : 70\n",
      "Enter score : 80\n"
     ]
    }
   ],
   "source": [
    "file_name = input('Enter file name : ')\n",
    "f = open(file_name, 'w')\n",
    "\n",
    "for i in range(5):\n",
    "    f.write(input('Enter score : '))\n",
    "    f.write('\\n')\n",
    "    \n",
    "f.close()"
   ]
  },
  {
   "cell_type": "markdown",
   "metadata": {},
   "source": [
    "* CODE 86"
   ]
  },
  {
   "cell_type": "code",
   "execution_count": 79,
   "metadata": {},
   "outputs": [],
   "source": [
    "f = open('original.txt', 'w')\n",
    "f.write('hello world')\n",
    "f.write('\\n')\n",
    "f.write('python programming')\n",
    "f.write('\\n')\n",
    "f.write('have a nice day')\n",
    "f.close()"
   ]
  },
  {
   "cell_type": "code",
   "execution_count": 81,
   "metadata": {},
   "outputs": [],
   "source": [
    "f1 = open('original.txt', 'r')\n",
    "f2 = open('copy.txt', 'w')\n",
    "\n",
    "f2.write(f1.read())\n",
    "f1.close()\n",
    "f2.close()"
   ]
  },
  {
   "cell_type": "markdown",
   "metadata": {},
   "source": [
    "### - writelines() 메소드\n",
    "- 문자열로 구성된 리스트를 파일에 저장"
   ]
  },
  {
   "cell_type": "code",
   "execution_count": 82,
   "metadata": {},
   "outputs": [],
   "source": [
    "f = open('greeting2.txt', 'w')\n",
    "\n",
    "L = ['good morning\\n', 'how are you\\n', 'nice to meet you\\n', 'good afternoon\\n']\n",
    "f.writelines(L)\n",
    "f.close()"
   ]
  },
  {
   "cell_type": "markdown",
   "metadata": {},
   "source": [
    "## * print() 함수로 파일에 데이터 저장하기"
   ]
  },
  {
   "cell_type": "code",
   "execution_count": 83,
   "metadata": {},
   "outputs": [],
   "source": [
    "with open('newfile.txt', 'w') as f:\n",
    "    print('hello world', file=f)\n",
    "    print('python programming', file=f)\n",
    "    f.close()"
   ]
  },
  {
   "cell_type": "markdown",
   "metadata": {},
   "source": [
    "## * 파일 경로\n",
    "- 절대 경로 : 가장 상위 폴더인 C 폴더로부터의 경로\n",
    "- 상대 경로 : 현재 파일의 위치부터의 경로"
   ]
  },
  {
   "cell_type": "code",
   "execution_count": 84,
   "metadata": {},
   "outputs": [],
   "source": [
    "# 절대경로 # 'C:Users/sogang-pc/AppData/Local/Programs/Python/letter3.txt'"
   ]
  },
  {
   "cell_type": "code",
   "execution_count": 85,
   "metadata": {},
   "outputs": [],
   "source": [
    "# 상대경로 # ../letter3.txt\n",
    "# ..이란 현재 위치보다 하나 상위 폴더를 의미"
   ]
  },
  {
   "cell_type": "code",
   "execution_count": null,
   "metadata": {},
   "outputs": [],
   "source": []
  }
 ],
 "metadata": {
  "kernelspec": {
   "display_name": "Python 3",
   "language": "python",
   "name": "python3"
  },
  "language_info": {
   "codemirror_mode": {
    "name": "ipython",
    "version": 3
   },
   "file_extension": ".py",
   "mimetype": "text/x-python",
   "name": "python",
   "nbconvert_exporter": "python",
   "pygments_lexer": "ipython3",
   "version": "3.6.10"
  }
 },
 "nbformat": 4,
 "nbformat_minor": 4
}
