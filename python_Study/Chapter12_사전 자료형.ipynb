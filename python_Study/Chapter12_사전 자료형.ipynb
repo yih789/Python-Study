{
 "cells": [
  {
   "cell_type": "markdown",
   "metadata": {},
   "source": [
    "## * 사전 만들기(dict): 순서 개념이 없지만 '키'가 인덱스 역할을 한다."
   ]
  },
  {
   "cell_type": "code",
   "execution_count": 1,
   "metadata": {},
   "outputs": [
    {
     "data": {
      "text/plain": [
       "{'baseball': 9, 'soccer': 11, 'basketball': 5}"
      ]
     },
     "execution_count": 1,
     "metadata": {},
     "output_type": "execute_result"
    }
   ],
   "source": [
    "sports = {'baseball':9, 'soccer':11, 'basketball':5}\n",
    "sports"
   ]
  },
  {
   "cell_type": "code",
   "execution_count": 2,
   "metadata": {},
   "outputs": [
    {
     "data": {
      "text/plain": [
       "12"
      ]
     },
     "execution_count": 2,
     "metadata": {},
     "output_type": "execute_result"
    }
   ],
   "source": [
    "info = {'name':'Alice', 'age':12, 'grade':5, 'phone':'010-0000-0000'}\n",
    "info['age']"
   ]
  },
  {
   "cell_type": "code",
   "execution_count": 3,
   "metadata": {},
   "outputs": [
    {
     "ename": "KeyError",
     "evalue": "'height'",
     "output_type": "error",
     "traceback": [
      "\u001b[1;31m---------------------------------------------------------------------------\u001b[0m",
      "\u001b[1;31mKeyError\u001b[0m                                  Traceback (most recent call last)",
      "\u001b[1;32m<ipython-input-3-6c8c0665234b>\u001b[0m in \u001b[0;36m<module>\u001b[1;34m\u001b[0m\n\u001b[1;32m----> 1\u001b[1;33m \u001b[0minfo\u001b[0m\u001b[1;33m[\u001b[0m\u001b[1;34m'height'\u001b[0m\u001b[1;33m]\u001b[0m\u001b[1;33m\u001b[0m\u001b[1;33m\u001b[0m\u001b[0m\n\u001b[0m",
      "\u001b[1;31mKeyError\u001b[0m: 'height'"
     ]
    }
   ],
   "source": [
    "info['height']"
   ]
  },
  {
   "cell_type": "markdown",
   "metadata": {},
   "source": [
    "## * 키는 인덱스 역할을 하므로 중복x, 중간에 변경x -> immutable 자료형만 가능\n",
    "## * 그러나 사전의 '값'에 해당하는 자료형은 9가지 모두 가능"
   ]
  },
  {
   "cell_type": "markdown",
   "metadata": {},
   "source": [
    "### - 크기가 2인 튜플 또는 리스트로만 구성된 리스트 또는 튜플"
   ]
  },
  {
   "cell_type": "code",
   "execution_count": 5,
   "metadata": {},
   "outputs": [
    {
     "data": {
      "text/plain": [
       "({'ONE': 1, 'TWO': 2, 'THREE': 3}, {'A': 'a', 'B': 'b', 'C': 'c'})"
      ]
     },
     "execution_count": 5,
     "metadata": {},
     "output_type": "execute_result"
    }
   ],
   "source": [
    "S = [('ONE',1), ('TWO',2), ('THREE',3)]\n",
    "L = [['A','a'],['B','b'], ['C','c']]\n",
    "\n",
    "dict(S), dict(L)"
   ]
  },
  {
   "cell_type": "markdown",
   "metadata": {},
   "source": [
    "### - zip(): 두 개의 iterable 데이터를 받는다."
   ]
  },
  {
   "cell_type": "code",
   "execution_count": 7,
   "metadata": {},
   "outputs": [
    {
     "data": {
      "text/plain": [
       "{'Alice': 10, 'Bob': 8, 'Paul': 12, 'Cindy': 9}"
      ]
     },
     "execution_count": 7,
     "metadata": {},
     "output_type": "execute_result"
    }
   ],
   "source": [
    "names = ['Alice', 'Bob', 'Paul', 'Cindy']\n",
    "ages = [10, 8, 12, 9]\n",
    "dict(zip(names, ages))"
   ]
  },
  {
   "cell_type": "code",
   "execution_count": 8,
   "metadata": {},
   "outputs": [],
   "source": [
    "# 크기가 다르면 작은 크기에 맞춰서 만들어진다."
   ]
  },
  {
   "cell_type": "code",
   "execution_count": 9,
   "metadata": {},
   "outputs": [
    {
     "data": {
      "text/plain": [
       "{'Alice': 10, 'Bob': 8, 'Paul': 12, 'Cindy': 9}"
      ]
     },
     "execution_count": 9,
     "metadata": {},
     "output_type": "execute_result"
    }
   ],
   "source": [
    "names = ['Alice', 'Bob', 'Paul', 'Cindy']\n",
    "ages = [10, 8, 12, 9, 1, 5, 6, 7 ,8 ]\n",
    "dict(zip(names, ages))"
   ]
  },
  {
   "cell_type": "code",
   "execution_count": 10,
   "metadata": {},
   "outputs": [
    {
     "data": {
      "text/plain": [
       "{'Alice': 0, 'Bob': 1, 'Paul': 2, 'Cindy': 3}"
      ]
     },
     "execution_count": 10,
     "metadata": {},
     "output_type": "execute_result"
    }
   ],
   "source": [
    "dict(zip(names, range(6)))"
   ]
  },
  {
   "cell_type": "code",
   "execution_count": null,
   "metadata": {},
   "outputs": [],
   "source": [
    "# 리스트를 키로 묶이게 되면 에러"
   ]
  },
  {
   "cell_type": "code",
   "execution_count": 11,
   "metadata": {},
   "outputs": [
    {
     "ename": "TypeError",
     "evalue": "unhashable type: 'list'",
     "output_type": "error",
     "traceback": [
      "\u001b[1;31m---------------------------------------------------------------------------\u001b[0m",
      "\u001b[1;31mTypeError\u001b[0m                                 Traceback (most recent call last)",
      "\u001b[1;32m<ipython-input-11-06d7d3675c68>\u001b[0m in \u001b[0;36m<module>\u001b[1;34m\u001b[0m\n\u001b[0;32m      1\u001b[0m \u001b[0mL\u001b[0m \u001b[1;33m=\u001b[0m \u001b[1;33m[\u001b[0m\u001b[1;33m[\u001b[0m\u001b[1;36m1\u001b[0m\u001b[1;33m,\u001b[0m \u001b[1;36m3\u001b[0m\u001b[1;33m,\u001b[0m \u001b[1;36m5\u001b[0m\u001b[1;33m]\u001b[0m\u001b[1;33m,\u001b[0m \u001b[1;33m[\u001b[0m\u001b[1;36m2\u001b[0m\u001b[1;33m,\u001b[0m \u001b[1;36m4\u001b[0m\u001b[1;33m,\u001b[0m \u001b[1;36m6\u001b[0m\u001b[1;33m]\u001b[0m\u001b[1;33m]\u001b[0m\u001b[1;33m\u001b[0m\u001b[1;33m\u001b[0m\u001b[0m\n\u001b[1;32m----> 2\u001b[1;33m \u001b[0mdict\u001b[0m\u001b[1;33m(\u001b[0m\u001b[0mzip\u001b[0m\u001b[1;33m(\u001b[0m\u001b[0mL\u001b[0m\u001b[1;33m,\u001b[0m\u001b[1;33m(\u001b[0m\u001b[1;34m'odd'\u001b[0m\u001b[1;33m,\u001b[0m \u001b[1;34m'even'\u001b[0m\u001b[1;33m)\u001b[0m\u001b[1;33m)\u001b[0m\u001b[1;33m)\u001b[0m\u001b[1;33m\u001b[0m\u001b[1;33m\u001b[0m\u001b[0m\n\u001b[0m",
      "\u001b[1;31mTypeError\u001b[0m: unhashable type: 'list'"
     ]
    }
   ],
   "source": [
    "L = [[1, 3, 5], [2, 4, 6]]\n",
    "dict(zip(L,('odd', 'even')))"
   ]
  },
  {
   "cell_type": "code",
   "execution_count": 12,
   "metadata": {},
   "outputs": [
    {
     "data": {
      "text/plain": [
       "{'odd': [1, 3, 5], 'even': [2, 4, 6]}"
      ]
     },
     "execution_count": 12,
     "metadata": {},
     "output_type": "execute_result"
    }
   ],
   "source": [
    "#순서를 바꾸면 가능\n",
    "dict(zip(('odd', 'even'), L))"
   ]
  },
  {
   "cell_type": "markdown",
   "metadata": {},
   "source": [
    "## * 두 사전이 같은지 비교"
   ]
  },
  {
   "cell_type": "code",
   "execution_count": 14,
   "metadata": {},
   "outputs": [],
   "source": [
    "# 순서 상관없이 같은 개수와 원소로 이루어져 있으면 같은 것으로 간주\n",
    "# 같은 키와 같은 원소 쌍이 중복되면 하나로 간주"
   ]
  },
  {
   "cell_type": "code",
   "execution_count": 17,
   "metadata": {},
   "outputs": [],
   "source": [
    "D = {1:'one', 100:'hundred', 3:'three', 10:'ten'}\n",
    "C = {100:'hundred', 1:'one', 10:'ten', 3:'three'}\n",
    "E = {100:'hundred', 100:'hundred', 1:'one', 10:'ten', 3:'three'}"
   ]
  },
  {
   "cell_type": "code",
   "execution_count": 18,
   "metadata": {},
   "outputs": [
    {
     "data": {
      "text/plain": [
       "True"
      ]
     },
     "execution_count": 18,
     "metadata": {},
     "output_type": "execute_result"
    }
   ],
   "source": [
    "D==C==E"
   ]
  },
  {
   "cell_type": "markdown",
   "metadata": {},
   "source": [
    "## * 사전은 '키'를 인덱스로 사용하고 슬라이스는 할 수 없다."
   ]
  },
  {
   "cell_type": "markdown",
   "metadata": {},
   "source": [
    "## * 사전은 mutable 객체이다."
   ]
  },
  {
   "cell_type": "code",
   "execution_count": 20,
   "metadata": {},
   "outputs": [
    {
     "data": {
      "text/plain": [
       "{'파이썬': 10, '아두이노': 6, '자바': 1, 'c언어': 4}"
      ]
     },
     "execution_count": 20,
     "metadata": {},
     "output_type": "execute_result"
    }
   ],
   "source": [
    "books = {'파이썬':10, '아두이노':6, '자바':1, 'c언어':4}\n",
    "books"
   ]
  },
  {
   "cell_type": "code",
   "execution_count": 21,
   "metadata": {},
   "outputs": [
    {
     "data": {
      "text/plain": [
       "{'파이썬': 20, '아두이노': 6, '자바': 1, 'c언어': 4}"
      ]
     },
     "execution_count": 21,
     "metadata": {},
     "output_type": "execute_result"
    }
   ],
   "source": [
    "books['파이썬'] = 20\n",
    "books"
   ]
  },
  {
   "cell_type": "markdown",
   "metadata": {},
   "source": [
    "* 새로운 데이터 추가"
   ]
  },
  {
   "cell_type": "code",
   "execution_count": 22,
   "metadata": {},
   "outputs": [],
   "source": [
    "books['자료구조'] = 13"
   ]
  },
  {
   "cell_type": "code",
   "execution_count": 23,
   "metadata": {},
   "outputs": [
    {
     "data": {
      "text/plain": [
       "{'파이썬': 20, '아두이노': 6, '자바': 1, 'c언어': 4, '자료구조': 13}"
      ]
     },
     "execution_count": 23,
     "metadata": {},
     "output_type": "execute_result"
    }
   ],
   "source": [
    "books"
   ]
  },
  {
   "cell_type": "markdown",
   "metadata": {},
   "source": [
    "* 원소 삭제"
   ]
  },
  {
   "cell_type": "code",
   "execution_count": 24,
   "metadata": {},
   "outputs": [
    {
     "data": {
      "text/plain": [
       "{'파이썬': 20, '아두이노': 6, '자바': 1, 'c언어': 4}"
      ]
     },
     "execution_count": 24,
     "metadata": {},
     "output_type": "execute_result"
    }
   ],
   "source": [
    "del books['자료구조']\n",
    "books"
   ]
  },
  {
   "cell_type": "code",
   "execution_count": 25,
   "metadata": {},
   "outputs": [
    {
     "ename": "NameError",
     "evalue": "name 'books' is not defined",
     "output_type": "error",
     "traceback": [
      "\u001b[1;31m---------------------------------------------------------------------------\u001b[0m",
      "\u001b[1;31mNameError\u001b[0m                                 Traceback (most recent call last)",
      "\u001b[1;32m<ipython-input-25-a4b4021e9d6d>\u001b[0m in \u001b[0;36m<module>\u001b[1;34m\u001b[0m\n\u001b[0;32m      1\u001b[0m \u001b[1;32mdel\u001b[0m \u001b[0mbooks\u001b[0m\u001b[1;33m\u001b[0m\u001b[1;33m\u001b[0m\u001b[0m\n\u001b[1;32m----> 2\u001b[1;33m \u001b[0mbooks\u001b[0m\u001b[1;33m\u001b[0m\u001b[1;33m\u001b[0m\u001b[0m\n\u001b[0m",
      "\u001b[1;31mNameError\u001b[0m: name 'books' is not defined"
     ]
    }
   ],
   "source": [
    "del books\n",
    "books"
   ]
  },
  {
   "cell_type": "markdown",
   "metadata": {},
   "source": [
    "## * 사전에 in, not in 연산자 가능, +, *는 불가능"
   ]
  },
  {
   "cell_type": "markdown",
   "metadata": {},
   "source": [
    "* CODE 64"
   ]
  },
  {
   "cell_type": "code",
   "execution_count": 29,
   "metadata": {},
   "outputs": [
    {
     "name": "stdout",
     "output_type": "stream",
     "text": [
      "Enter name : Jane\n",
      "없는 이름\n"
     ]
    }
   ],
   "source": [
    "ages = {'Jenny':22, 'Jone':25, 'Jake': 39, 'hoon':21, 'Rachel': 50}\n",
    "name = input('Enter name : ')\n",
    "\n",
    "if(name in ages) :\n",
    "    print(name)\n",
    "else :\n",
    "    print('없는 이름')"
   ]
  },
  {
   "cell_type": "code",
   "execution_count": 27,
   "metadata": {},
   "outputs": [
    {
     "data": {
      "text/plain": [
       "True"
      ]
     },
     "execution_count": 27,
     "metadata": {},
     "output_type": "execute_result"
    }
   ],
   "source": [
    "'Jenny' in ages"
   ]
  },
  {
   "cell_type": "code",
   "execution_count": 28,
   "metadata": {},
   "outputs": [
    {
     "data": {
      "text/plain": [
       "False"
      ]
     },
     "execution_count": 28,
     "metadata": {},
     "output_type": "execute_result"
    }
   ],
   "source": [
    "22 in ages # 키만 가능하다."
   ]
  },
  {
   "cell_type": "markdown",
   "metadata": {},
   "source": [
    "## * 사전에 함수 적용하기 - len(), max(), min(), sum(), sorted(), reversed()"
   ]
  },
  {
   "cell_type": "code",
   "execution_count": 31,
   "metadata": {},
   "outputs": [
    {
     "data": {
      "text/plain": [
       "['Jake', 'Jenny', 'Jone', 'Rachel', 'hoon']"
      ]
     },
     "execution_count": 31,
     "metadata": {},
     "output_type": "execute_result"
    }
   ],
   "source": [
    "sorted(ages) # 키의 값을 정렬한 리스트만 반환"
   ]
  },
  {
   "cell_type": "markdown",
   "metadata": {},
   "source": [
    "## * 사전 메소드"
   ]
  },
  {
   "cell_type": "markdown",
   "metadata": {},
   "source": [
    "### - 사전 비우기 : clear() 메소드"
   ]
  },
  {
   "cell_type": "code",
   "execution_count": 33,
   "metadata": {},
   "outputs": [
    {
     "data": {
      "text/plain": [
       "{'red': 8, 'blue': 5, 'green': 6, 'purple': 4}"
      ]
     },
     "execution_count": 33,
     "metadata": {},
     "output_type": "execute_result"
    }
   ],
   "source": [
    "color_pencil = {'red':8, 'blue':5, 'green':6, 'purple':4}\n",
    "color_pencil"
   ]
  },
  {
   "cell_type": "code",
   "execution_count": 35,
   "metadata": {},
   "outputs": [
    {
     "data": {
      "text/plain": [
       "{}"
      ]
     },
     "execution_count": 35,
     "metadata": {},
     "output_type": "execute_result"
    }
   ],
   "source": [
    "color_pencil.clear()\n",
    "color_pencil"
   ]
  },
  {
   "cell_type": "markdown",
   "metadata": {},
   "source": [
    "### - 사전 복사하기 : copy()"
   ]
  },
  {
   "cell_type": "markdown",
   "metadata": {},
   "source": [
    "* iterable 객체를 '키'로 하는 사전 만들기 - fromkeys() 메소드\n",
    "- 인수 1개: dict.fromkeys(iterable) - iterable 키에 모두 none 값 \n",
    "- 인수 2개: dict.fromkeys(iterable, value) - iterable 키에 모두 value 값"
   ]
  },
  {
   "cell_type": "code",
   "execution_count": 36,
   "metadata": {},
   "outputs": [
    {
     "data": {
      "text/plain": [
       "{'h': None, 'e': None, 'l': None, 'o': None}"
      ]
     },
     "execution_count": 36,
     "metadata": {},
     "output_type": "execute_result"
    }
   ],
   "source": [
    "string = 'hello'\n",
    "D = dict.fromkeys(string)\n",
    "D"
   ]
  },
  {
   "cell_type": "code",
   "execution_count": 37,
   "metadata": {},
   "outputs": [
    {
     "data": {
      "text/plain": [
       "{'h': 5, 'e': 5, 'l': 5, 'o': 5}"
      ]
     },
     "execution_count": 37,
     "metadata": {},
     "output_type": "execute_result"
    }
   ],
   "source": [
    "E = dict.fromkeys(string, 5)\n",
    "E"
   ]
  },
  {
   "cell_type": "markdown",
   "metadata": {},
   "source": [
    "## * 사전에서 어떤 '키'의 '값' 가져오기 - get()\n",
    "- 인수 1개: dict.get(키), 해당 키의 값을 가져오며 키가 없다면  None 반환\n",
    "- 인수 2개: dict.get(키, 키가 없을 때 반환하고자 하는 값), 키가 없다면 두 번째 인수 반환"
   ]
  },
  {
   "cell_type": "code",
   "execution_count": 39,
   "metadata": {},
   "outputs": [
    {
     "data": {
      "text/plain": [
       "8"
      ]
     },
     "execution_count": 39,
     "metadata": {},
     "output_type": "execute_result"
    }
   ],
   "source": [
    "color_pencil = {'red':8, 'blue':5, 'green':6, 'purple':4}\n",
    "color_pencil.get('red')"
   ]
  },
  {
   "cell_type": "code",
   "execution_count": 44,
   "metadata": {},
   "outputs": [
    {
     "name": "stdout",
     "output_type": "stream",
     "text": [
      "None\n"
     ]
    }
   ],
   "source": [
    "a = color_pencil.get('pink')\n",
    "print(a)"
   ]
  },
  {
   "cell_type": "code",
   "execution_count": 45,
   "metadata": {},
   "outputs": [
    {
     "data": {
      "text/plain": [
       "5"
      ]
     },
     "execution_count": 45,
     "metadata": {},
     "output_type": "execute_result"
    }
   ],
   "source": [
    "color_pencil.get('pink', 5)"
   ]
  },
  {
   "cell_type": "markdown",
   "metadata": {},
   "source": [
    "## * 사전에서 값을 가져오거나 새로운 원소를 추가하는 메소드 - setdefault()\n",
    "- setdefault(x); x키의 값을 가져오며, x가 없다면 키를 추가하고 값을 None으로 설정\n",
    "- setdefault(x, value): x키의 값을 가져오고, x가 없다면 초기값 value로 저장"
   ]
  },
  {
   "cell_type": "code",
   "execution_count": 46,
   "metadata": {},
   "outputs": [],
   "source": [
    "color_pencil = {'red':8, 'blue':5, 'green':6, 'purple':4}\n",
    "color_pencil.setdefault('pink')"
   ]
  },
  {
   "cell_type": "code",
   "execution_count": 47,
   "metadata": {},
   "outputs": [
    {
     "data": {
      "text/plain": [
       "{'red': 8, 'blue': 5, 'green': 6, 'purple': 4, 'pink': None}"
      ]
     },
     "execution_count": 47,
     "metadata": {},
     "output_type": "execute_result"
    }
   ],
   "source": [
    "color_pencil"
   ]
  },
  {
   "cell_type": "code",
   "execution_count": 48,
   "metadata": {},
   "outputs": [
    {
     "data": {
      "text/plain": [
       "10"
      ]
     },
     "execution_count": 48,
     "metadata": {},
     "output_type": "execute_result"
    }
   ],
   "source": [
    "color_pencil.setdefault('whilte', 10)"
   ]
  },
  {
   "cell_type": "code",
   "execution_count": 49,
   "metadata": {},
   "outputs": [
    {
     "data": {
      "text/plain": [
       "{'red': 8, 'blue': 5, 'green': 6, 'purple': 4, 'pink': None, 'whilte': 10}"
      ]
     },
     "execution_count": 49,
     "metadata": {},
     "output_type": "execute_result"
    }
   ],
   "source": [
    "color_pencil"
   ]
  },
  {
   "cell_type": "markdown",
   "metadata": {},
   "source": [
    "## * 사전에서 원소를 삭제하기 - pop(), popitem() 메소드\n",
    "- pop(x): x에 해당하는 값을 반환하고, 해당 키와 값을 삭제한다. 이때, 없는 키라면 KeyError 발생\n",
    "- pop(x, value): pop(x)와 같으며, 해당 키가 없다면 초기값 value를 반환"
   ]
  },
  {
   "cell_type": "code",
   "execution_count": 50,
   "metadata": {},
   "outputs": [
    {
     "ename": "KeyError",
     "evalue": "'pink'",
     "output_type": "error",
     "traceback": [
      "\u001b[1;31m---------------------------------------------------------------------------\u001b[0m",
      "\u001b[1;31mKeyError\u001b[0m                                  Traceback (most recent call last)",
      "\u001b[1;32m<ipython-input-50-60acac712fc8>\u001b[0m in \u001b[0;36m<module>\u001b[1;34m\u001b[0m\n\u001b[0;32m      1\u001b[0m \u001b[0mcolor_pencil\u001b[0m \u001b[1;33m=\u001b[0m \u001b[1;33m{\u001b[0m\u001b[1;34m'red'\u001b[0m\u001b[1;33m:\u001b[0m\u001b[1;36m8\u001b[0m\u001b[1;33m,\u001b[0m \u001b[1;34m'blue'\u001b[0m\u001b[1;33m:\u001b[0m\u001b[1;36m5\u001b[0m\u001b[1;33m,\u001b[0m \u001b[1;34m'green'\u001b[0m\u001b[1;33m:\u001b[0m\u001b[1;36m6\u001b[0m\u001b[1;33m,\u001b[0m \u001b[1;34m'purple'\u001b[0m\u001b[1;33m:\u001b[0m\u001b[1;36m4\u001b[0m\u001b[1;33m}\u001b[0m\u001b[1;33m\u001b[0m\u001b[1;33m\u001b[0m\u001b[0m\n\u001b[1;32m----> 2\u001b[1;33m \u001b[0mcolor_pencil\u001b[0m\u001b[1;33m.\u001b[0m\u001b[0mpop\u001b[0m\u001b[1;33m(\u001b[0m\u001b[1;34m'pink'\u001b[0m\u001b[1;33m)\u001b[0m\u001b[1;33m\u001b[0m\u001b[1;33m\u001b[0m\u001b[0m\n\u001b[0m",
      "\u001b[1;31mKeyError\u001b[0m: 'pink'"
     ]
    }
   ],
   "source": [
    "color_pencil = {'red':8, 'blue':5, 'green':6, 'purple':4}\n",
    "color_pencil.pop('pink')"
   ]
  },
  {
   "cell_type": "code",
   "execution_count": 51,
   "metadata": {},
   "outputs": [],
   "source": [
    "a = color_pencil.pop('green', 5)"
   ]
  },
  {
   "cell_type": "code",
   "execution_count": 52,
   "metadata": {},
   "outputs": [
    {
     "data": {
      "text/plain": [
       "6"
      ]
     },
     "execution_count": 52,
     "metadata": {},
     "output_type": "execute_result"
    }
   ],
   "source": [
    "a"
   ]
  },
  {
   "cell_type": "code",
   "execution_count": 53,
   "metadata": {},
   "outputs": [],
   "source": [
    "a = color_pencil.pop('pink', 5)"
   ]
  },
  {
   "cell_type": "code",
   "execution_count": 54,
   "metadata": {},
   "outputs": [
    {
     "data": {
      "text/plain": [
       "5"
      ]
     },
     "execution_count": 54,
     "metadata": {},
     "output_type": "execute_result"
    }
   ],
   "source": [
    "a"
   ]
  },
  {
   "cell_type": "markdown",
   "metadata": {},
   "source": [
    "- popitem(): 하나의 '키:값'을 임의의로 삭제하고 반환한다. 또한 빈 사전에서 사용하면 KeyError 발생"
   ]
  },
  {
   "cell_type": "code",
   "execution_count": 55,
   "metadata": {},
   "outputs": [
    {
     "data": {
      "text/plain": [
       "('purple', 4)"
      ]
     },
     "execution_count": 55,
     "metadata": {},
     "output_type": "execute_result"
    }
   ],
   "source": [
    "color_pencil = {'red':8, 'blue':5, 'green':6, 'purple':4}\n",
    "color_pencil.popitem()"
   ]
  },
  {
   "cell_type": "markdown",
   "metadata": {},
   "source": [
    "## * 사전 합하기 - update() 메소드\n",
    "- 반환값 없이 바로 합해진 결과로 수정된다."
   ]
  },
  {
   "cell_type": "code",
   "execution_count": 56,
   "metadata": {},
   "outputs": [
    {
     "data": {
      "text/plain": [
       "{'red': 8, 'blue': 5, 'green': 6, 'purple': 4, 'whilte': 11, 'pink': 2}"
      ]
     },
     "execution_count": 56,
     "metadata": {},
     "output_type": "execute_result"
    }
   ],
   "source": [
    "color_pencil = {'red':8, 'blue':5, 'green':6, 'purple':4}\n",
    "color_pencil2 = {'whilte':11, 'pink':2}\n",
    "\n",
    "color_pencil.update(color_pencil2)\n",
    "color_pencil"
   ]
  },
  {
   "cell_type": "markdown",
   "metadata": {},
   "source": [
    "## * 사전에 있는 모든 원소를 (키,값)의 쌍으로 가져오기 - items() 메소드"
   ]
  },
  {
   "cell_type": "code",
   "execution_count": 57,
   "metadata": {},
   "outputs": [
    {
     "data": {
      "text/plain": [
       "dict_items([('red', 8), ('blue', 5), ('green', 6), ('purple', 4)])"
      ]
     },
     "execution_count": 57,
     "metadata": {},
     "output_type": "execute_result"
    }
   ],
   "source": [
    "color_pencil = {'red':8, 'blue':5, 'green':6, 'purple':4}\n",
    "result = color_pencil.items()\n",
    "result"
   ]
  },
  {
   "cell_type": "markdown",
   "metadata": {},
   "source": [
    "## * 사전에서 키들만 가져오기 - keys()"
   ]
  },
  {
   "cell_type": "code",
   "execution_count": 58,
   "metadata": {},
   "outputs": [
    {
     "data": {
      "text/plain": [
       "dict_keys(['red', 'blue', 'green', 'purple'])"
      ]
     },
     "execution_count": 58,
     "metadata": {},
     "output_type": "execute_result"
    }
   ],
   "source": [
    "color_pencil = {'red':8, 'blue':5, 'green':6, 'purple':4}\n",
    "result = color_pencil.keys()\n",
    "result"
   ]
  },
  {
   "cell_type": "markdown",
   "metadata": {},
   "source": [
    "## * 사전에서 값들만 가져오기 - values()"
   ]
  },
  {
   "cell_type": "code",
   "execution_count": 59,
   "metadata": {},
   "outputs": [
    {
     "data": {
      "text/plain": [
       "dict_values([8, 5, 6, 4])"
      ]
     },
     "execution_count": 59,
     "metadata": {},
     "output_type": "execute_result"
    }
   ],
   "source": [
    "color_pencil = {'red':8, 'blue':5, 'green':6, 'purple':4}\n",
    "result = color_pencil.values()\n",
    "result"
   ]
  },
  {
   "cell_type": "markdown",
   "metadata": {},
   "source": [
    "## * 사전과 for 반복문"
   ]
  },
  {
   "cell_type": "code",
   "execution_count": 60,
   "metadata": {},
   "outputs": [
    {
     "name": "stdout",
     "output_type": "stream",
     "text": [
      "red\n",
      "blue\n",
      "green\n",
      "purple\n"
     ]
    }
   ],
   "source": [
    "color_pencil = {'red':8, 'blue':5, 'green':6, 'purple':4}\n",
    "for color in color_pencil.keys():\n",
    "    print(color)"
   ]
  },
  {
   "cell_type": "code",
   "execution_count": 61,
   "metadata": {},
   "outputs": [
    {
     "name": "stdout",
     "output_type": "stream",
     "text": [
      "8\n",
      "5\n",
      "6\n",
      "4\n"
     ]
    }
   ],
   "source": [
    "color_pencil = {'red':8, 'blue':5, 'green':6, 'purple':4}\n",
    "for num in color_pencil.values():\n",
    "    print(num)"
   ]
  },
  {
   "cell_type": "code",
   "execution_count": 62,
   "metadata": {},
   "outputs": [
    {
     "name": "stdout",
     "output_type": "stream",
     "text": [
      "red : 8\n",
      "blue : 5\n",
      "green : 6\n",
      "purple : 4\n"
     ]
    }
   ],
   "source": [
    "color_pencil = {'red':8, 'blue':5, 'green':6, 'purple':4}\n",
    "for color, num in color_pencil.items():\n",
    "    print('{} : {}'.format(color,num))"
   ]
  },
  {
   "cell_type": "code",
   "execution_count": 63,
   "metadata": {},
   "outputs": [
    {
     "name": "stdout",
     "output_type": "stream",
     "text": [
      "('red', 8)\n",
      "('blue', 5)\n",
      "('green', 6)\n",
      "('purple', 4)\n"
     ]
    }
   ],
   "source": [
    "color_pencil = {'red':8, 'blue':5, 'green':6, 'purple':4}\n",
    "for item in color_pencil.items():\n",
    "    print(item)"
   ]
  },
  {
   "cell_type": "markdown",
   "metadata": {},
   "source": [
    "* CODE 65"
   ]
  },
  {
   "cell_type": "code",
   "execution_count": 65,
   "metadata": {},
   "outputs": [
    {
     "name": "stdout",
     "output_type": "stream",
     "text": [
      "Enter word : python\n"
     ]
    },
    {
     "data": {
      "text/plain": [
       "{'a': 0, 'e': 0, 'i': 0, 'o': 1, 'u': 0}"
      ]
     },
     "execution_count": 65,
     "metadata": {},
     "output_type": "execute_result"
    }
   ],
   "source": [
    "word = input('Enter word : ')\n",
    "\n",
    "vowel = dict.fromkeys('aeiou', 0)\n",
    "\n",
    "for w in word:\n",
    "    if w in vowel.keys():\n",
    "        vowel[w] += 1\n",
    "\n",
    "vowel"
   ]
  },
  {
   "cell_type": "markdown",
   "metadata": {},
   "source": [
    "* CODE 66"
   ]
  },
  {
   "cell_type": "code",
   "execution_count": 67,
   "metadata": {},
   "outputs": [
    {
     "data": {
      "text/plain": [
       "{'paper': 3,\n",
       " 'rose': 3,\n",
       " 'pencil': 1,\n",
       " 'book': 3,\n",
       " 'desk': 1,\n",
       " 'computer': 4,\n",
       " 'erase': 1,\n",
       " 'apple': 1,\n",
       " 'usb': 2,\n",
       " 'chair': 1,\n",
       " 'shoe': 1,\n",
       " 'spoon': 1}"
      ]
     },
     "execution_count": 67,
     "metadata": {},
     "output_type": "execute_result"
    }
   ],
   "source": [
    "vocabulary = ['paper', 'rose', 'pencil', 'book', 'desk', 'computer', 'book', 'erase', 'computer', 'computer', 'rose', 'apple', 'rose', 'book', 'computer', 'paper', 'usb','chair', 'usb','paper','shoe','spoon']\n",
    "voca = dict.fromkeys(vocabulary, 0)\n",
    "\n",
    "for word in vocabulary:\n",
    "    if word in voca.keys():\n",
    "        voca[word] += 1\n",
    "\n",
    "voca"
   ]
  },
  {
   "cell_type": "markdown",
   "metadata": {},
   "source": [
    "* CODE 67"
   ]
  },
  {
   "cell_type": "code",
   "execution_count": 71,
   "metadata": {},
   "outputs": [],
   "source": [
    "score = {'Alice':[80, 90, 88], 'Paul':[77, 92, 90], 'David':[60, 70, 80], 'Cindy':[80, 92, 95], 'Tom':[85, 65, 70]}\n",
    "average = {}"
   ]
  },
  {
   "cell_type": "code",
   "execution_count": 72,
   "metadata": {},
   "outputs": [],
   "source": [
    "for name, score in score.items():\n",
    "    average[name] = sum(score)/len(score)"
   ]
  },
  {
   "cell_type": "code",
   "execution_count": 73,
   "metadata": {},
   "outputs": [
    {
     "data": {
      "text/plain": [
       "{'Alice': 86.0,\n",
       " 'Paul': 86.33333333333333,\n",
       " 'David': 70.0,\n",
       " 'Cindy': 89.0,\n",
       " 'Tom': 73.33333333333333}"
      ]
     },
     "execution_count": 73,
     "metadata": {},
     "output_type": "execute_result"
    }
   ],
   "source": [
    "average"
   ]
  },
  {
   "cell_type": "markdown",
   "metadata": {},
   "source": [
    "* CODE 68"
   ]
  },
  {
   "cell_type": "code",
   "execution_count": 74,
   "metadata": {},
   "outputs": [],
   "source": [
    "crypt_code = {'a':'g', 'b':'r', 'c':'q', 'd':'i', 'e':'u', 'f':'e', 'g':'w', 'h':'n', 'i':'d', 'j':'i', 'k':'v', 'l':'t', 'm':'f', 'n':'s', 'o':'o', 'p':'a', 'q':'k', 'r':'x', 's':'m', \n",
    "             't':'p', 'u':'y', 'v':'b', 'w':'j', 'x':'z', 'y':'c', 'z':'h' }"
   ]
  },
  {
   "cell_type": "code",
   "execution_count": 76,
   "metadata": {},
   "outputs": [
    {
     "name": "stdout",
     "output_type": "stream",
     "text": [
      "Enter Word : python\n",
      "acpnos\n"
     ]
    }
   ],
   "source": [
    "word = input('Enter Word : ')\n",
    "crypt_word = ''\n",
    "\n",
    "for w in word:\n",
    "    crypt_word += crypt_code[w]\n",
    "    \n",
    "print(crypt_word)"
   ]
  },
  {
   "cell_type": "markdown",
   "metadata": {},
   "source": [
    "## * 사전 내에서 for 반복문 사용(Dictionary Comprehension)"
   ]
  },
  {
   "cell_type": "code",
   "execution_count": 77,
   "metadata": {},
   "outputs": [
    {
     "data": {
      "text/plain": [
       "{1: 1, 2: 4, 3: 9, 4: 16, 5: 25, 6: 36, 7: 49, 8: 64, 9: 81, 10: 100}"
      ]
     },
     "execution_count": 77,
     "metadata": {},
     "output_type": "execute_result"
    }
   ],
   "source": [
    "D = {x:x**2 for x in range(1, 11)}\n",
    "D"
   ]
  },
  {
   "cell_type": "code",
   "execution_count": 78,
   "metadata": {},
   "outputs": [],
   "source": [
    "T = ['서울', 15.2, '인천', 16.0, '대전', 17.3, '부산', 19]\n",
    "Dictionary = {T[i]:T[i+1] for i in range(0, len(T), 2)}"
   ]
  },
  {
   "cell_type": "code",
   "execution_count": 79,
   "metadata": {},
   "outputs": [
    {
     "data": {
      "text/plain": [
       "{'서울': 15.2, '인천': 16.0, '대전': 17.3, '부산': 19}"
      ]
     },
     "execution_count": 79,
     "metadata": {},
     "output_type": "execute_result"
    }
   ],
   "source": [
    "Dictionary"
   ]
  },
  {
   "cell_type": "markdown",
   "metadata": {},
   "source": [
    "## * 사전 출력하기(pprint 모듈)"
   ]
  },
  {
   "cell_type": "code",
   "execution_count": 85,
   "metadata": {},
   "outputs": [
    {
     "name": "stdout",
     "output_type": "stream",
     "text": [
      "{'대전': 17.3, '부산': 19, '서울': 15.2, '인천': 16.0}\n"
     ]
    }
   ],
   "source": [
    "import pprint\n",
    "\n",
    "pprint.pprint(Dictionary)"
   ]
  },
  {
   "cell_type": "code",
   "execution_count": 88,
   "metadata": {},
   "outputs": [
    {
     "name": "stdout",
     "output_type": "stream",
     "text": [
      "{'대전': 17.3,\n",
      " '부산': 19,\n",
      " '서울': 15.2,\n",
      " '인천': 16.0}\n"
     ]
    }
   ],
   "source": [
    "pprint.pprint(Dictionary, width=10)"
   ]
  },
  {
   "cell_type": "code",
   "execution_count": 91,
   "metadata": {},
   "outputs": [
    {
     "name": "stdout",
     "output_type": "stream",
     "text": [
      "{         '대전': 17.3,\n",
      "          '부산': 19,\n",
      "          '서울': 15.2,\n",
      "          '인천': 16.0}\n"
     ]
    }
   ],
   "source": [
    "pprint.pprint(Dictionary, width=10, indent=10)"
   ]
  },
  {
   "cell_type": "markdown",
   "metadata": {},
   "source": [
    "## * 사전의 값으로 mutable 자료형이 저장되는 경우\n",
    "- copy()를 이용하면 얕은 복사가 이루어지므로 주의,\n",
    "- deepcopy() 이용"
   ]
  },
  {
   "cell_type": "markdown",
   "metadata": {},
   "source": [
    "## * 사전의 값으로 집합이 저장되는 경우"
   ]
  },
  {
   "cell_type": "code",
   "execution_count": 92,
   "metadata": {},
   "outputs": [],
   "source": [
    "score = {'Alice':{80, 90, 88}, 'Paul':{77, 92, 90}, 'David':{60, 70, 80}, 'Cindy':{80, 92, 95}, 'Tom':{85, 65, 70}}\n",
    "score['Alice'].add('sky blue') # 집합 메소드를 사용한다."
   ]
  },
  {
   "cell_type": "code",
   "execution_count": 98,
   "metadata": {},
   "outputs": [
    {
     "name": "stdout",
     "output_type": "stream",
     "text": [
      "{   'Alice': {80, 90, 88, 'sky blue'},\n",
      "    'Cindy': {80, 92, 95},\n",
      "    'David': {80, 60, 70},\n",
      "    'Paul': {90, 92, 77},\n",
      "    'Tom': {65, 85, 70}}\n"
     ]
    }
   ],
   "source": [
    "pprint.pprint(score, width=100, indent=4)"
   ]
  },
  {
   "cell_type": "markdown",
   "metadata": {},
   "source": [
    "## * 사전의 값으로 사전이 저장되는 경우"
   ]
  },
  {
   "cell_type": "code",
   "execution_count": 99,
   "metadata": {},
   "outputs": [],
   "source": [
    "score = {1:{'Alice':[80, 90, 88]}, 2:{'Paul':[77, 92, 90]}, 3:{'David':[60, 70, 80]}, 4:{'Cindy':[80, 92, 95]}, 5:{'Tom':[85, 65, 70]}}"
   ]
  },
  {
   "cell_type": "code",
   "execution_count": 100,
   "metadata": {},
   "outputs": [],
   "source": [
    "score[1]['Alice'].append(20)"
   ]
  },
  {
   "cell_type": "code",
   "execution_count": 102,
   "metadata": {},
   "outputs": [
    {
     "name": "stdout",
     "output_type": "stream",
     "text": [
      "{   1: {'Alice': [80, 90, 88, 20]},\n",
      "    2: {'Paul': [77, 92, 90]},\n",
      "    3: {'David': [60, 70, 80]},\n",
      "    4: {'Cindy': [80, 92, 95]},\n",
      "    5: {'Tom': [85, 65, 70]}}\n"
     ]
    }
   ],
   "source": [
    "pprint.pprint(score, width=100, indent=4)"
   ]
  },
  {
   "cell_type": "code",
   "execution_count": null,
   "metadata": {},
   "outputs": [],
   "source": []
  }
 ],
 "metadata": {
  "kernelspec": {
   "display_name": "Python 3",
   "language": "python",
   "name": "python3"
  },
  "language_info": {
   "codemirror_mode": {
    "name": "ipython",
    "version": 3
   },
   "file_extension": ".py",
   "mimetype": "text/x-python",
   "name": "python",
   "nbconvert_exporter": "python",
   "pygments_lexer": "ipython3",
   "version": "3.6.10"
  }
 },
 "nbformat": 4,
 "nbformat_minor": 4
}
