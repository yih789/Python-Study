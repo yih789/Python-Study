{
 "cells": [
  {
   "cell_type": "markdown",
   "metadata": {},
   "source": [
    "## * 관계연산자\n",
    "[ >=, <=, >, <, ==, !=] (6가지)"
   ]
  },
  {
   "cell_type": "markdown",
   "metadata": {},
   "source": [
    "## * 논리연산자\n",
    "[and, or, not] (3가지)"
   ]
  },
  {
   "cell_type": "code",
   "execution_count": 1,
   "metadata": {},
   "outputs": [
    {
     "name": "stdout",
     "output_type": "stream",
     "text": [
      "False\n",
      "True\n",
      "False\n"
     ]
    }
   ],
   "source": [
    "a = 10; b= 5; c = 7\n",
    "x = a > b and b > c\n",
    "print(x)\n",
    "y = a > b or b > c\n",
    "print(y)\n",
    "z = not a > b\n",
    "print(z)"
   ]
  },
  {
   "cell_type": "markdown",
   "metadata": {},
   "source": [
    "* 파이썬에서는 a > b and b > c를 a > b > c라고 써도 된다."
   ]
  },
  {
   "cell_type": "markdown",
   "metadata": {},
   "source": [
    "## * 산술연산자 > 관계연산자 > 논리연산자 (우선순위)"
   ]
  },
  {
   "cell_type": "markdown",
   "metadata": {},
   "source": [
    "## * 조건 논리와 if 조건문"
   ]
  },
  {
   "cell_type": "markdown",
   "metadata": {},
   "source": [
    "#### - if만 있는 형태\n",
    "* CODE4 : 성적을 입력받아 성적이 90점 이상인 경우에는 '통과하셨습니다. 축하합니다. 수고하셨습니다.'를 출력하고, 90점 미만인 경우에는 '수고하셨습니다.'만 출력하는 코드"
   ]
  },
  {
   "cell_type": "code",
   "execution_count": 4,
   "metadata": {},
   "outputs": [
    {
     "name": "stdout",
     "output_type": "stream",
     "text": [
      "성적을 입력하세요. : 95\n",
      "통과하셨습니다.\n",
      "축하합니다.\n",
      "수고하셨습니다.\n"
     ]
    }
   ],
   "source": [
    "score = int(input('성적을 입력하세요. : '))\n",
    "\n",
    "if score >= 90 :\n",
    "    print('통과하셨습니다.', '축하합니다.', sep='\\n')\n",
    "    \n",
    "print('수고하셨습니다.')"
   ]
  },
  {
   "cell_type": "markdown",
   "metadata": {},
   "source": [
    "#### - if~else 형태\n",
    "* CODE5"
   ]
  },
  {
   "cell_type": "code",
   "execution_count": 6,
   "metadata": {},
   "outputs": [
    {
     "name": "stdout",
     "output_type": "stream",
     "text": [
      "성적을 입력하세요. : 98\n",
      "통과하셨습니다.\n",
      "축하합니다.\n",
      "수고하셨습니다.\n"
     ]
    }
   ],
   "source": [
    "score = int(input('성적을 입력하세요. : '))\n",
    "\n",
    "if score >= 90 :\n",
    "    print('통과하셨습니다.', '축하합니다.', sep='\\n')\n",
    "else :\n",
    "    print('90점 이상이 되어야 통과입니다.')\n",
    "    \n",
    "print('수고하셨습니다.')"
   ]
  },
  {
   "cell_type": "markdown",
   "metadata": {},
   "source": [
    "* CODE6"
   ]
  },
  {
   "cell_type": "code",
   "execution_count": 8,
   "metadata": {},
   "outputs": [
    {
     "name": "stdout",
     "output_type": "stream",
     "text": [
      "아이디를 입력하세요. : yih789\n",
      "Welcome! yih789\n"
     ]
    }
   ],
   "source": [
    "login_id = input('아이디를 입력하세요. : ')\n",
    "\n",
    "if login_id == 'admin': # 파이썬은 문자열 비교가 '=='으로 가능하다.\n",
    "    print('Hi, admin! Please check log files.')\n",
    "else:\n",
    "    print('Welcome!', login_id)"
   ]
  },
  {
   "cell_type": "markdown",
   "metadata": {},
   "source": [
    "* CODE7"
   ]
  },
  {
   "cell_type": "code",
   "execution_count": 11,
   "metadata": {},
   "outputs": [
    {
     "name": "stdout",
     "output_type": "stream",
     "text": [
      "아이디를 입력하세요. : AdMin\n",
      "Hi, admin! Please check log files.\n"
     ]
    }
   ],
   "source": [
    "login_id = input('아이디를 입력하세요. : ')\n",
    "\n",
    "if login_id.lower() == 'admin': # 파이썬은 문자열 비교가 '=='으로 가능하다.\n",
    "    print('Hi, admin! Please check log files.')\n",
    "else:\n",
    "    print('You are not admin')"
   ]
  },
  {
   "cell_type": "markdown",
   "metadata": {},
   "source": [
    "* CODE8"
   ]
  },
  {
   "cell_type": "code",
   "execution_count": 18,
   "metadata": {},
   "outputs": [
    {
     "name": "stdout",
     "output_type": "stream",
     "text": [
      "나이와 키를 순서대로 입력하세요. : 10 100\n",
      "놀이기구를 탈 수 없습니다. 다음에 오세요.\n"
     ]
    }
   ],
   "source": [
    "# input()은 입력 전체를 하나의 문자열로 객체로 가져오므로 split()으로 분리후 자료형 변환\n",
    "age, height = map(int, input('나이와 키를 순서대로 입력하세요. : ').split())\n",
    "\n",
    "if age >= 8 and height >=120:\n",
    "    print('입장하세요.')\n",
    "else:\n",
    "    print('놀이기구를 탈 수 없습니다. 다음에 오세요.')"
   ]
  },
  {
   "cell_type": "markdown",
   "metadata": {},
   "source": [
    "#### - if ~ elif~ else 형태\n",
    "* CODE9"
   ]
  },
  {
   "cell_type": "code",
   "execution_count": 21,
   "metadata": {},
   "outputs": [
    {
     "name": "stdout",
     "output_type": "stream",
     "text": [
      "성적을 입력하세요. : 85\n",
      "당신의 학점은 B\n"
     ]
    }
   ],
   "source": [
    "score = int(input('성적을 입력하세요. : '))\n",
    "\n",
    "# 이때, 위에서부터 거짓이면 바로 아래로 내려가기 때문에 조건문의 순서가 중요\n",
    "# EX) 85점인데 70조건문이 80보다 위에 있으면 70조건문이 실행되고 종료\n",
    "if score >= 90:\n",
    "    print('당신의 학점은 A')\n",
    "elif score >= 80:\n",
    "    print('당신의 학점은 B')\n",
    "elif score >= 70:\n",
    "    print('당신의 학점은 C')\n",
    "elif score >= 60:\n",
    "    print('당신의 학점은 D')\n",
    "else:\n",
    "    print('당신의 학점은 F')"
   ]
  },
  {
   "cell_type": "markdown",
   "metadata": {},
   "source": [
    "* CODE10"
   ]
  },
  {
   "cell_type": "code",
   "execution_count": 23,
   "metadata": {},
   "outputs": [
    {
     "name": "stdout",
     "output_type": "stream",
     "text": [
      "나이를 입력하세요. : 20\n",
      "10,000\\\n"
     ]
    }
   ],
   "source": [
    "age = int(input('나이를 입력하세요. : '))\n",
    "\n",
    "if age >= 65: print('8,000\\\\')\n",
    "elif age >= 20: print('10,000\\\\')\n",
    "elif age >= 7: print('7,000\\\\')\n",
    "else: print('무료')"
   ]
  },
  {
   "cell_type": "markdown",
   "metadata": {},
   "source": [
    "* CODE11"
   ]
  },
  {
   "cell_type": "code",
   "execution_count": 26,
   "metadata": {},
   "outputs": [
    {
     "name": "stdout",
     "output_type": "stream",
     "text": [
      "영문자 하나를 입력하세요. : r\n",
      "모음이 아닙니다.\n"
     ]
    }
   ],
   "source": [
    "alpha = input('영문자 하나를 입력하세요. : ')\n",
    "\n",
    "vowels = 'aeiouAEIOU'\n",
    "\n",
    "if alpha in vowels:\n",
    "    print('모음입니다.')\n",
    "else:\n",
    "    print('모음이 아닙니다.')"
   ]
  },
  {
   "cell_type": "markdown",
   "metadata": {},
   "source": [
    "* CODE12"
   ]
  },
  {
   "cell_type": "code",
   "execution_count": 27,
   "metadata": {},
   "outputs": [
    {
     "name": "stdout",
     "output_type": "stream",
     "text": [
      "과일을 입력하세요. : banana\n",
      "I don't like banana\n"
     ]
    }
   ],
   "source": [
    "fruits = ['kiwi', 'strawberry', 'peach', 'apple', 'melon']\n",
    "\n",
    "fruit = input('과일을 입력하세요. : ')\n",
    "\n",
    "if fruit in fruits:\n",
    "    print('I like', fruit)\n",
    "else:\n",
    "    print(\"I don't like\", fruit)"
   ]
  },
  {
   "cell_type": "markdown",
   "metadata": {},
   "source": [
    "* CODE13"
   ]
  },
  {
   "cell_type": "code",
   "execution_count": 30,
   "metadata": {},
   "outputs": [
    {
     "name": "stdout",
     "output_type": "stream",
     "text": [
      "좋아하는 색을 입력하세요. : yELLOW\n",
      "yellow is also my favorite color.\n"
     ]
    }
   ],
   "source": [
    "colors = ('yellow', 'white', 'black', 'violet', 'skyblue')\n",
    "\n",
    "temp = input('좋아하는 색을 입력하세요. : ')\n",
    "color = temp.lower()\n",
    "\n",
    "if color in colors:\n",
    "    print(color, 'is also my favorite color.')\n",
    "else:\n",
    "    print(color, 'is not my favorite color.')"
   ]
  },
  {
   "cell_type": "markdown",
   "metadata": {},
   "source": [
    "* CODE14"
   ]
  },
  {
   "cell_type": "code",
   "execution_count": 31,
   "metadata": {},
   "outputs": [
    {
     "name": "stdout",
     "output_type": "stream",
     "text": [
      "원하는 과목을 입력하세요. : toeic\n",
      "There is toeic\n"
     ]
    }
   ],
   "source": [
    "subjects = {'toefl', 'toeic', 'gre', 'last'}\n",
    "\n",
    "sub = input('원하는 과목을 입력하세요. : ')\n",
    "\n",
    "if sub in subjects:\n",
    "    print('There is', sub)\n",
    "else:\n",
    "    print('There is no', sub)"
   ]
  },
  {
   "cell_type": "markdown",
   "metadata": {},
   "source": [
    "## * 빈 문자열, 빈 리스트, 빈 튜플, 빈 집합, 빈 사전은 False"
   ]
  },
  {
   "cell_type": "code",
   "execution_count": 33,
   "metadata": {},
   "outputs": [
    {
     "name": "stdout",
     "output_type": "stream",
     "text": [
      "f\n"
     ]
    }
   ],
   "source": [
    "a = ''\n",
    "b = []\n",
    "c = ()\n",
    "d = {}\n",
    "e = dict()\n",
    "\n",
    "if a:\n",
    "    print('t')\n",
    "else:\n",
    "    print('f')"
   ]
  },
  {
   "cell_type": "markdown",
   "metadata": {},
   "source": [
    "* CODE15"
   ]
  },
  {
   "cell_type": "code",
   "execution_count": 35,
   "metadata": {},
   "outputs": [
    {
     "name": "stdout",
     "output_type": "stream",
     "text": [
      "나이를 입력하세요. : 7\n",
      "8세 이상이어야 입장 가능합니다.\n"
     ]
    }
   ],
   "source": [
    "age = int(input('나이를 입력하세요. : '))\n",
    "\n",
    "if age >= 8:\n",
    "    height = int(input('키를 입력하세요. : '))\n",
    "    if height >= 120:\n",
    "        print('입장 가능합니다.')\n",
    "    else:\n",
    "        print('키가 120cm 이상이어야 입장가능합니다.')\n",
    "else:\n",
    "    print('8세 이상이어야 입장 가능합니다.')"
   ]
  },
  {
   "cell_type": "markdown",
   "metadata": {},
   "source": [
    "* CODE16"
   ]
  },
  {
   "cell_type": "code",
   "execution_count": 36,
   "metadata": {},
   "outputs": [
    {
     "name": "stdout",
     "output_type": "stream",
     "text": [
      "Input your ID : admin\n",
      "Input your PassWord : 123456\n",
      "Wrong password\n"
     ]
    }
   ],
   "source": [
    "login_id = input('Input your ID : ')\n",
    "\n",
    "if login_id.lower() == 'admin':\n",
    "    pw = input('Input your PassWord : ')\n",
    "    if pw == '1234':\n",
    "        print('Welcome, admin')\n",
    "    else:\n",
    "        print('Wrong password')\n",
    "else:\n",
    "    print('You are not admin')"
   ]
  },
  {
   "cell_type": "markdown",
   "metadata": {},
   "source": [
    "* CODE17"
   ]
  },
  {
   "cell_type": "code",
   "execution_count": 3,
   "metadata": {},
   "outputs": [
    {
     "name": "stdout",
     "output_type": "stream",
     "text": [
      "Input your first name : YEO\n",
      "input your last name : HYEIN\n",
      "\n",
      "\n",
      "< Your id : yhyein >\n",
      "\n",
      "=========================\n",
      "Make a password as follws.\n",
      "\n",
      "-Must be at 8 letters\n",
      "\n",
      "-Alphabet and numbers only\n",
      "=========================\n",
      "\n",
      "Input your Password : 12345667888*\n",
      "Alphabet and numbers only\n"
     ]
    }
   ],
   "source": [
    "f_name = input('Input your first name : ')\n",
    "l_name = input('input your last name : ')\n",
    "\n",
    "print('\\n')\n",
    "login_id = (f_name[0] + l_name).lower()\n",
    "print('< Your id :', login_id, '>', end='\\n\\n')\n",
    "\n",
    "print('''=========================\n",
    "Make a password as follws.\\n\n",
    "-Must be at 8 letters\\n\n",
    "-Alphabet and numbers only\n",
    "=========================''', end='\\n\\n')\n",
    "\n",
    "pw = input('Input your Password : ')\n",
    "if len(pw)>=8:\n",
    "    if pw.isalnum():\n",
    "        print('Nice Password')\n",
    "    else:\n",
    "        print('Alphabet and numbers only')\n",
    "else:\n",
    "    print('Must be at least 8 letters')"
   ]
  },
  {
   "cell_type": "code",
   "execution_count": null,
   "metadata": {},
   "outputs": [],
   "source": []
  }
 ],
 "metadata": {
  "kernelspec": {
   "display_name": "Python 3",
   "language": "python",
   "name": "python3"
  },
  "language_info": {
   "codemirror_mode": {
    "name": "ipython",
    "version": 3
   },
   "file_extension": ".py",
   "mimetype": "text/x-python",
   "name": "python",
   "nbconvert_exporter": "python",
   "pygments_lexer": "ipython3",
   "version": "3.6.10"
  }
 },
 "nbformat": 4,
 "nbformat_minor": 4
}
